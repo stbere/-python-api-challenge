{
 "cells": [
  {
   "cell_type": "markdown",
   "metadata": {},
   "source": [
    "# VacationPy\n",
    "---\n",
    "\n",
    "## Starter Code to Import Libraries and Load the Weather and Coordinates Data"
   ]
  },
  {
   "cell_type": "code",
   "execution_count": 47,
   "metadata": {},
   "outputs": [],
   "source": [
    "# Dependencies and Setup\n",
    "import hvplot.pandas\n",
    "import pandas as pd\n",
    "import requests\n",
    "\n",
    "# Ignore warnings\n",
    "import warnings\n",
    "warnings.filterwarnings(\"ignore\")\n",
    "\n",
    "# Import API key\n",
    "from api_keys import geoapify_key"
   ]
  },
  {
   "cell_type": "code",
   "execution_count": 48,
   "metadata": {},
   "outputs": [
    {
     "data": {
      "text/html": [
       "<div>\n",
       "<style scoped>\n",
       "    .dataframe tbody tr th:only-of-type {\n",
       "        vertical-align: middle;\n",
       "    }\n",
       "\n",
       "    .dataframe tbody tr th {\n",
       "        vertical-align: top;\n",
       "    }\n",
       "\n",
       "    .dataframe thead th {\n",
       "        text-align: right;\n",
       "    }\n",
       "</style>\n",
       "<table border=\"1\" class=\"dataframe\">\n",
       "  <thead>\n",
       "    <tr style=\"text-align: right;\">\n",
       "      <th></th>\n",
       "      <th>City_ID</th>\n",
       "      <th>City</th>\n",
       "      <th>Cloudiness</th>\n",
       "      <th>Country</th>\n",
       "      <th>Date</th>\n",
       "      <th>Humidity</th>\n",
       "      <th>Lat</th>\n",
       "      <th>Lng</th>\n",
       "      <th>Max Temp</th>\n",
       "      <th>Wind Speed</th>\n",
       "    </tr>\n",
       "  </thead>\n",
       "  <tbody>\n",
       "    <tr>\n",
       "      <th>0</th>\n",
       "      <td>0</td>\n",
       "      <td>severo-kurilsk</td>\n",
       "      <td>92</td>\n",
       "      <td>RU</td>\n",
       "      <td>1534988024</td>\n",
       "      <td>93</td>\n",
       "      <td>50.68</td>\n",
       "      <td>156.12</td>\n",
       "      <td>54.27</td>\n",
       "      <td>2.73</td>\n",
       "    </tr>\n",
       "    <tr>\n",
       "      <th>1</th>\n",
       "      <td>1</td>\n",
       "      <td>darhan</td>\n",
       "      <td>8</td>\n",
       "      <td>MN</td>\n",
       "      <td>1534988024</td>\n",
       "      <td>71</td>\n",
       "      <td>49.49</td>\n",
       "      <td>105.92</td>\n",
       "      <td>72.81</td>\n",
       "      <td>8.55</td>\n",
       "    </tr>\n",
       "    <tr>\n",
       "      <th>2</th>\n",
       "      <td>2</td>\n",
       "      <td>tarakan</td>\n",
       "      <td>48</td>\n",
       "      <td>ID</td>\n",
       "      <td>1534988024</td>\n",
       "      <td>100</td>\n",
       "      <td>3.30</td>\n",
       "      <td>117.63</td>\n",
       "      <td>80.10</td>\n",
       "      <td>4.41</td>\n",
       "    </tr>\n",
       "    <tr>\n",
       "      <th>3</th>\n",
       "      <td>3</td>\n",
       "      <td>komsomolskiy</td>\n",
       "      <td>48</td>\n",
       "      <td>RU</td>\n",
       "      <td>1534987754</td>\n",
       "      <td>72</td>\n",
       "      <td>67.55</td>\n",
       "      <td>63.78</td>\n",
       "      <td>54.46</td>\n",
       "      <td>15.46</td>\n",
       "    </tr>\n",
       "    <tr>\n",
       "      <th>4</th>\n",
       "      <td>4</td>\n",
       "      <td>souillac</td>\n",
       "      <td>0</td>\n",
       "      <td>FR</td>\n",
       "      <td>1534986000</td>\n",
       "      <td>73</td>\n",
       "      <td>45.60</td>\n",
       "      <td>-0.60</td>\n",
       "      <td>71.60</td>\n",
       "      <td>3.36</td>\n",
       "    </tr>\n",
       "  </tbody>\n",
       "</table>\n",
       "</div>"
      ],
      "text/plain": [
       "   City_ID            City  Cloudiness Country        Date  Humidity    Lat  \\\n",
       "0        0  severo-kurilsk          92      RU  1534988024        93  50.68   \n",
       "1        1          darhan           8      MN  1534988024        71  49.49   \n",
       "2        2         tarakan          48      ID  1534988024       100   3.30   \n",
       "3        3    komsomolskiy          48      RU  1534987754        72  67.55   \n",
       "4        4        souillac           0      FR  1534986000        73  45.60   \n",
       "\n",
       "      Lng  Max Temp  Wind Speed  \n",
       "0  156.12     54.27        2.73  \n",
       "1  105.92     72.81        8.55  \n",
       "2  117.63     80.10        4.41  \n",
       "3   63.78     54.46       15.46  \n",
       "4   -0.60     71.60        3.36  "
      ]
     },
     "execution_count": 48,
     "metadata": {},
     "output_type": "execute_result"
    }
   ],
   "source": [
    "# Load the CSV file created in Part 1 into a Pandas DataFrame\n",
    "city_data_df = pd.read_csv(\"output_data/cities.csv\")\n",
    "\n",
    "# Display sample data\n",
    "city_data_df.head()"
   ]
  },
  {
   "cell_type": "markdown",
   "metadata": {},
   "source": [
    "---\n",
    "\n",
    "### Step 1: Create a map that displays a point for every city in the `city_data_df` DataFrame. The size of the point should be the humidity in each city."
   ]
  },
  {
   "cell_type": "code",
   "execution_count": 49,
   "metadata": {},
   "outputs": [
    {
     "name": "stderr",
     "output_type": "stream",
     "text": [
      "WARNING:param.main: framde_width option not found for points plot with bokeh; similar options include: ['frame_width', 'min_width', 'max_width']\n"
     ]
    },
    {
     "data": {},
     "metadata": {},
     "output_type": "display_data"
    },
    {
     "data": {
      "application/vnd.holoviews_exec.v0+json": "",
      "text/html": [
       "<div id='2489'>\n",
       "  <div class=\"bk-root\" id=\"5f91a315-1f66-4879-9a93-dc7e80f013af\" data-root-id=\"2489\"></div>\n",
       "</div>\n",
       "<script type=\"application/javascript\">(function(root) {\n",
       "  function embed_document(root) {\n",
       "    var docs_json = {\"875c65f9-4df6-4e49-b4a9-9b15e41e20b1\":{\"defs\":[{\"extends\":null,\"module\":null,\"name\":\"ReactiveHTML1\",\"overrides\":[],\"properties\":[]},{\"extends\":null,\"module\":null,\"name\":\"FlexBox1\",\"overrides\":[],\"properties\":[{\"default\":\"flex-start\",\"kind\":null,\"name\":\"align_content\"},{\"default\":\"flex-start\",\"kind\":null,\"name\":\"align_items\"},{\"default\":\"row\",\"kind\":null,\"name\":\"flex_direction\"},{\"default\":\"wrap\",\"kind\":null,\"name\":\"flex_wrap\"},{\"default\":\"flex-start\",\"kind\":null,\"name\":\"justify_content\"}]},{\"extends\":null,\"module\":null,\"name\":\"GridStack1\",\"overrides\":[],\"properties\":[{\"default\":\"warn\",\"kind\":null,\"name\":\"mode\"},{\"default\":null,\"kind\":null,\"name\":\"ncols\"},{\"default\":null,\"kind\":null,\"name\":\"nrows\"},{\"default\":true,\"kind\":null,\"name\":\"allow_resize\"},{\"default\":true,\"kind\":null,\"name\":\"allow_drag\"},{\"default\":[],\"kind\":null,\"name\":\"state\"}]},{\"extends\":null,\"module\":null,\"name\":\"click1\",\"overrides\":[],\"properties\":[{\"default\":\"\",\"kind\":null,\"name\":\"terminal_output\"},{\"default\":\"\",\"kind\":null,\"name\":\"debug_name\"},{\"default\":0,\"kind\":null,\"name\":\"clears\"}]},{\"extends\":null,\"module\":null,\"name\":\"NotificationAreaBase1\",\"overrides\":[],\"properties\":[{\"default\":\"bottom-right\",\"kind\":null,\"name\":\"position\"},{\"default\":0,\"kind\":null,\"name\":\"_clear\"}]},{\"extends\":null,\"module\":null,\"name\":\"NotificationArea1\",\"overrides\":[],\"properties\":[{\"default\":[],\"kind\":null,\"name\":\"notifications\"},{\"default\":\"bottom-right\",\"kind\":null,\"name\":\"position\"},{\"default\":0,\"kind\":null,\"name\":\"_clear\"},{\"default\":[{\"background\":\"#ffc107\",\"icon\":{\"className\":\"fas fa-exclamation-triangle\",\"color\":\"white\",\"tagName\":\"i\"},\"type\":\"warning\"},{\"background\":\"#007bff\",\"icon\":{\"className\":\"fas fa-info-circle\",\"color\":\"white\",\"tagName\":\"i\"},\"type\":\"info\"}],\"kind\":null,\"name\":\"types\"}]},{\"extends\":null,\"module\":null,\"name\":\"Notification\",\"overrides\":[],\"properties\":[{\"default\":null,\"kind\":null,\"name\":\"background\"},{\"default\":3000,\"kind\":null,\"name\":\"duration\"},{\"default\":null,\"kind\":null,\"name\":\"icon\"},{\"default\":\"\",\"kind\":null,\"name\":\"message\"},{\"default\":null,\"kind\":null,\"name\":\"notification_type\"},{\"default\":false,\"kind\":null,\"name\":\"_destroyed\"}]},{\"extends\":null,\"module\":null,\"name\":\"TemplateActions1\",\"overrides\":[],\"properties\":[{\"default\":0,\"kind\":null,\"name\":\"open_modal\"},{\"default\":0,\"kind\":null,\"name\":\"close_modal\"}]},{\"extends\":null,\"module\":null,\"name\":\"MaterialTemplateActions1\",\"overrides\":[],\"properties\":[{\"default\":0,\"kind\":null,\"name\":\"open_modal\"},{\"default\":0,\"kind\":null,\"name\":\"close_modal\"}]}],\"roots\":{\"references\":[{\"attributes\":{\"coordinates\":null,\"data_source\":{\"id\":\"2566\"},\"glyph\":{\"id\":\"2569\"},\"group\":null,\"hover_glyph\":{\"id\":\"2572\"},\"muted_glyph\":{\"id\":\"2573\"},\"nonselection_glyph\":{\"id\":\"2570\"},\"selection_glyph\":{\"id\":\"2571\"},\"view\":{\"id\":\"2575\"}},\"id\":\"2574\",\"type\":\"GlyphRenderer\"},{\"attributes\":{\"end\":23842297.085029148,\"min_interval\":5,\"reset_end\":23842297.085029148,\"reset_start\":-23925786.703124102,\"start\":-23925786.703124102,\"tags\":[[[\"Lng\",\"Lng\",null]]]},\"id\":\"2495\",\"type\":\"Range1d\"},{\"attributes\":{\"callback\":null,\"formatters\":{\"$x\":{\"id\":\"2584\"},\"$y\":{\"id\":\"2585\"}},\"renderers\":[{\"id\":\"2574\"}],\"tags\":[\"hv_created\"],\"tooltips\":[[\"Lng\",\"$x{custom}\"],[\"Lat\",\"$y{custom}\"],[\"City\",\"@{City}\"],[\"Humidity\",\"@{Humidity}\"]]},\"id\":\"2499\",\"type\":\"HoverTool\"},{\"attributes\":{\"dimension\":\"lat\"},\"id\":\"2536\",\"type\":\"MercatorTicker\"},{\"attributes\":{},\"id\":\"2579\",\"type\":\"UnionRenderers\"},{\"attributes\":{\"source\":{\"id\":\"2566\"}},\"id\":\"2575\",\"type\":\"CDSView\"},{\"attributes\":{\"data\":{\"City\":[\"severo-kurilsk\",\"darhan\",\"tarakan\",\"komsomolskiy\",\"souillac\",\"jiuquan\",\"sesheke\",\"punta arenas\",\"clarence town\",\"mataura\",\"magadan\",\"salym\",\"carnarvon\",\"puerto ayora\",\"arys\",\"prince rupert\",\"albany\",\"dikson\",\"kapaa\",\"rikitea\",\"rio gallegos\",\"kropotkin\",\"butaritari\",\"dahra\",\"khatanga\",\"stephenville\",\"hobart\",\"north bend\",\"ponta do sol\",\"faya\",\"vryburg\",\"hasaki\",\"zhigansk\",\"ushuaia\",\"thompson\",\"margate\",\"oksfjord\",\"chumikan\",\"kudat\",\"jamestown\",\"laguna\",\"abu zabad\",\"saint-joseph\",\"cabo san lucas\",\"new norfolk\",\"port alfred\",\"kirkwall\",\"luderitz\",\"bethel\",\"vao\",\"saldanha\",\"melo\",\"college\",\"prinos\",\"kodiak\",\"cabo rojo\",\"nuevo ideal\",\"yumen\",\"khonsa\",\"biloela\",\"sungaipenuh\",\"namatanai\",\"kungurtug\",\"port elizabeth\",\"busselton\",\"san rafael\",\"cape town\",\"hovd\",\"isangel\",\"ancud\",\"humenne\",\"natal\",\"moron\",\"kaitangata\",\"poya\",\"yellowknife\",\"pangai\",\"havre-saint-pierre\",\"takoradi\",\"bathsheba\",\"kirksville\",\"pangody\",\"qaanaaq\",\"hithadhoo\",\"cambridge\",\"damaturu\",\"carbonear\",\"nikolskoye\",\"mar del plata\",\"charlestown\",\"touros\",\"boissevain\",\"bluff\",\"kudahuvadhoo\",\"tairua\",\"tuatapere\",\"bredasdorp\",\"silver city\",\"veracruz\",\"rincon\",\"hermanus\",\"toktogul\",\"lebu\",\"mahebourg\",\"yilan\",\"mumford\",\"atuona\",\"diffa\",\"saskylakh\",\"lompoc\",\"ribeira grande\",\"dana point\",\"castro\",\"upernavik\",\"kavieng\",\"barabinsk\",\"port lincoln\",\"malinovoye ozero\",\"ambatofinandrahana\",\"puerto del rosario\",\"pevek\",\"chuy\",\"zhezkazgan\",\"avarua\",\"batagay-alyta\",\"baltiysk\",\"parfino\",\"barrow\",\"hilo\",\"mackenzie\",\"lebanon\",\"nishihara\",\"antalaha\",\"narsaq\",\"hami\",\"shaoyang\",\"chokurdakh\",\"petropavlovsk-kamchatskiy\",\"leningradskiy\",\"mehamn\",\"vaini\",\"bara\",\"risch\",\"along\",\"vestmanna\",\"mwinilunga\",\"pozo colorado\",\"werder\",\"lovington\",\"qasigiannguit\",\"mackay\",\"pisco\",\"sisimiut\",\"banda aceh\",\"fortuna\",\"ouadda\",\"sucua\",\"nanortalik\",\"longyearbyen\",\"araouane\",\"barra patuca\",\"wattegama\",\"tuktoyaktuk\",\"tabou\",\"arraial do cabo\",\"stabat\",\"klaksvik\",\"alofi\",\"sumbawanga\",\"lagoa\",\"bambous virieux\",\"saint george\",\"hibbing\",\"bandar-e lengeh\",\"viedma\",\"port keats\",\"jinchang\",\"lata\",\"fairbanks\",\"olupona\",\"genhe\",\"dingle\",\"williamsburg\",\"anloga\",\"esperance\",\"saint-philippe\",\"provideniya\",\"dalvik\",\"salalah\",\"inta\",\"naze\",\"juneau\",\"kurumkan\",\"ranong\",\"cockburn town\",\"norman wells\",\"hoquiam\",\"georgetown\",\"ostrovnoy\",\"placido de castro\",\"suksun\",\"faanui\",\"ust-barguzin\",\"itacare\",\"nacogdoches\",\"cape canaveral\",\"puri\",\"tarnow\",\"jumla\",\"ust-kuyga\",\"rocha\",\"tasiilaq\",\"ribeira brava\",\"norrtalje\",\"warrington\",\"noumea\",\"meadow lake\",\"chimoio\",\"oussouye\",\"gazojak\",\"balikpapan\",\"torbay\",\"elko\",\"sao joao da barra\",\"saquena\",\"makokou\",\"hambantota\",\"beidao\",\"praia da vitoria\",\"port blair\",\"awbari\",\"reconquista\",\"aklavik\",\"teya\",\"edinet\",\"taoudenni\",\"goundam\",\"socorro\",\"merrill\",\"vagay\",\"comodoro rivadavia\",\"pudozh\",\"sambava\",\"batesville\",\"itaituba\",\"la asuncion\",\"east london\",\"chipinge\",\"cedartown\",\"miranda\",\"sabang\",\"abong mbang\",\"port hardy\",\"canon city\",\"santa quiteria do maranhao\",\"ryotsu\",\"pacific grove\",\"kishi\",\"obihiro\",\"katsuura\",\"saint augustine\",\"bushehr\",\"nizhniy kuranakh\",\"bonthe\",\"saint-augustin\",\"nizwa\",\"kamenka\",\"tiksi\",\"saint anthony\",\"vardo\",\"riyadh\",\"malim\",\"makakilo city\",\"henties bay\",\"caravelas\",\"gazli\",\"san juan\",\"moose factory\",\"fuerte olimpo\",\"saint-pierre\",\"raca\",\"san quintin\",\"sedro-woolley\",\"berdigestyakh\",\"high level\",\"khorramshahr\",\"san jose\",\"emba\",\"farcasu\",\"kruisfontein\",\"garango\",\"boa vista\",\"novopskov\",\"shimoda\",\"portland\",\"waingapu\",\"zuwarah\",\"muroto\",\"sao filipe\",\"lunenburg\",\"novyy urengoy\",\"ferry pass\",\"crotone\",\"arlit\",\"auki\",\"ambilobe\",\"ilhabela\",\"kirakira\",\"cidreira\",\"chambas\",\"gat\",\"petatlan\",\"nha trang\",\"hermosillo\",\"airai\",\"kahului\",\"yeppoon\",\"manavgat\",\"katima mulilo\",\"carutapera\",\"yar-sale\",\"haines junction\",\"half moon bay\",\"vanavara\",\"santander\",\"amuntai\",\"esmeraldas\",\"okhotsk\",\"datong\",\"sidi ali\",\"muravlenko\",\"amahai\",\"santa isabel do rio negro\",\"wageningen\",\"svetlogorsk\",\"paita\",\"maniitsoq\",\"port augusta\",\"yulara\",\"hofn\",\"pulupandan\",\"wajima\",\"dnestrovsc\",\"biak\",\"bam\",\"tacoronte\",\"otavi\",\"adrar\",\"srednekolymsk\",\"belmonte\",\"san cristobal\",\"callaway\",\"birao\",\"itoman\",\"uch\",\"santona\",\"onguday\",\"hangu\",\"geraldton\",\"gorele\",\"erenhot\",\"hauterive\",\"kerema\",\"jalu\",\"inhambane\",\"kenai\",\"joshimath\",\"hamilton\",\"talnakh\",\"egvekinot\",\"victoria\",\"atbasar\",\"bulembu\",\"hohhot\",\"halifax\",\"rehoboth\",\"beloha\",\"sehithwa\",\"burdur\",\"baruun-urt\",\"fagernes\",\"toyooka\",\"nantucket\",\"martaban\",\"puerto escondido\",\"port moresby\",\"malinovskiy\",\"kumluca\",\"salinas\",\"mount isa\",\"cherskiy\",\"gobabis\",\"bilma\",\"fort nelson\",\"quesnel\",\"dakar\",\"santiago del estero\",\"buala\",\"irbeyskoye\",\"vila franca do campo\",\"coihaique\",\"los llanos de aridane\",\"muros\",\"port hedland\",\"kieta\",\"green river\",\"mosonmagyarovar\",\"mindelo\",\"roblin\",\"la ronge\",\"tubuala\",\"port-gentil\",\"mordovo\",\"clyde river\",\"aykhal\",\"tuensang\",\"pascagoula\",\"canto do buriti\",\"bijie\",\"san-pedro\",\"luorong\",\"berlevag\",\"satipo\",\"rawson\",\"marsh harbour\",\"taupo\",\"san carlos de bariloche\",\"pervomayskoye\",\"chicama\",\"angoche\",\"brae\",\"manokwari\",\"mauganj\",\"te anau\",\"vila velha\",\"tautira\",\"dong xoai\",\"batemans bay\",\"diapaga\",\"mangrol\",\"mersing\",\"maldonado\",\"mikhaylovka\",\"temple\",\"gigmoto\",\"makow mazowiecki\",\"lasa\",\"mazamari\",\"matagami\",\"steamboat springs\",\"mount gambier\",\"chyhyryn\",\"nortelandia\",\"imperial\",\"progreso\",\"arriaga\",\"qusar\",\"tessalit\",\"de aar\",\"kutum\",\"ketchikan\",\"peleduy\",\"libenge\",\"tomatlan\",\"lalmohan\",\"serowe\",\"mihail kogalniceanu\",\"broken hill\",\"ajaccio\",\"suntar\",\"mezica\",\"sitka\",\"ewa beach\",\"songea\",\"monroe\",\"cravo norte\",\"ystad\",\"beyneu\",\"almaznyy\",\"vestmannaeyjar\",\"cananeia\",\"alta floresta\",\"maketu\",\"mecca\",\"manta\",\"nebug\",\"constitucion\",\"cabimas\",\"khudumelapye\",\"husavik\",\"olinda\",\"coquimbo\",\"kambove\",\"iquique\",\"yenagoa\",\"konakovo\",\"labuhan\",\"sampit\",\"gayny\",\"trafaria\",\"zyryanka\",\"soavinandriana\",\"xiongzhou\",\"batamshinskiy\",\"kailua\",\"kaliyaganj\",\"obo\",\"mushie\",\"ishigaki\",\"newport\",\"quang ngai\",\"butembo\",\"palmer\",\"motril\",\"patitirion\",\"omboue\",\"waipawa\",\"sakaiminato\",\"xingcheng\",\"necochea\",\"gao\",\"jiwani\",\"yurla\",\"codrington\",\"kalmunai\",\"flinders\",\"primorsko-akhtarsk\",\"ilulissat\",\"isfana\",\"borshchiv\",\"hobyo\",\"syamzha\",\"mahibadhoo\",\"tiznit\",\"point fortin\"],\"Humidity\":[93,71,100,72,73,42,53,100,48,100,56,97,66,65,55,87,61,96,69,100,85,65,100,73,91,47,66,90,65,68,71,70,61,86,56,66,93,100,74,94,66,84,64,51,66,100,76,93,83,72,88,84,55,71,81,88,36,38,87,35,81,100,76,84,100,42,87,87,88,95,69,73,94,99,100,45,69,93,96,83,62,82,100,100,82,92,93,76,47,93,88,52,27,100,80,100,71,63,78,84,100,68,97,77,70,99,100,80,92,65,100,66,97,92,100,98,100,85,100,88,95,92,67,60,87,76,91,50,90,33,87,62,99,70,34,61,76,67,91,100,99,98,77,90,100,49,93,84,27,69,77,82,100,100,78,95,90,93,86,48,88,96,70,100,94,83,100,61,87,50,77,56,51,79,25,48,71,100,55,98,77,72,73,94,94,68,76,82,100,73,100,93,43,100,97,70,93,100,94,92,100,100,61,94,49,90,78,67,95,100,92,97,56,72,82,47,56,82,78,53,83,93,2,96,93,94,94,58,100,94,31,95,39,78,55,34,95,81,18,100,33,79,100,71,74,88,100,84,83,65,76,97,82,10,68,66,72,98,78,70,94,66,68,100,73,47,68,97,53,70,12,89,49,100,100,35,74,67,93,77,100,88,41,76,81,27,100,88,88,100,96,74,68,74,35,56,100,70,100,75,72,67,100,54,97,72,99,100,98,78,83,62,71,52,51,67,40,83,53,89,83,78,82,76,66,79,48,91,65,87,76,100,99,100,58,89,99,67,37,100,62,52,49,83,22,40,53,21,61,75,76,43,96,77,73,100,45,95,59,78,52,77,96,48,100,69,100,72,71,68,100,76,67,64,100,63,79,43,46,56,85,58,97,100,70,70,83,82,70,17,69,59,35,93,55,83,46,81,70,83,80,78,100,15,98,80,68,100,38,47,88,100,82,100,90,97,82,46,67,98,76,100,89,27,100,80,90,80,88,100,81,99,99,100,78,51,90,78,97,99,89,81,88,62,87,79,88,89,98,40,77,88,92,26,76,68,81,46,63,95,67,88,99,85,100,50,82,46,73,78,93,92,49,77,92,95,100,31,45,99,99,73,100,44,92,69,49,87,41,41,69,87,69,77,97,92,76,80,89,52,55,87,65,45,87,98,98,78,79,100,57,97,72,56,100,100,97,58,68,69,79,91,84,59,66,54,85,69,59,64,75,73,100,100,94],\"Lat\":{\"__ndarray__\":\"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\",\"dtype\":\"float64\",\"order\":\"little\",\"shape\":[535]},\"Lng\":{\"__ndarray__\":\"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\",\"dtype\":\"float64\",\"order\":\"little\",\"shape\":[535]},\"color\":[\"severo-kurilsk\",\"darhan\",\"tarakan\",\"komsomolskiy\",\"souillac\",\"jiuquan\",\"sesheke\",\"punta arenas\",\"clarence town\",\"mataura\",\"magadan\",\"salym\",\"carnarvon\",\"puerto ayora\",\"arys\",\"prince rupert\",\"albany\",\"dikson\",\"kapaa\",\"rikitea\",\"rio gallegos\",\"kropotkin\",\"butaritari\",\"dahra\",\"khatanga\",\"stephenville\",\"hobart\",\"north bend\",\"ponta do sol\",\"faya\",\"vryburg\",\"hasaki\",\"zhigansk\",\"ushuaia\",\"thompson\",\"margate\",\"oksfjord\",\"chumikan\",\"kudat\",\"jamestown\",\"laguna\",\"abu zabad\",\"saint-joseph\",\"cabo san lucas\",\"new norfolk\",\"port alfred\",\"kirkwall\",\"luderitz\",\"bethel\",\"vao\",\"saldanha\",\"melo\",\"college\",\"prinos\",\"kodiak\",\"cabo rojo\",\"nuevo ideal\",\"yumen\",\"khonsa\",\"biloela\",\"sungaipenuh\",\"namatanai\",\"kungurtug\",\"port elizabeth\",\"busselton\",\"san rafael\",\"cape town\",\"hovd\",\"isangel\",\"ancud\",\"humenne\",\"natal\",\"moron\",\"kaitangata\",\"poya\",\"yellowknife\",\"pangai\",\"havre-saint-pierre\",\"takoradi\",\"bathsheba\",\"kirksville\",\"pangody\",\"qaanaaq\",\"hithadhoo\",\"cambridge\",\"damaturu\",\"carbonear\",\"nikolskoye\",\"mar del plata\",\"charlestown\",\"touros\",\"boissevain\",\"bluff\",\"kudahuvadhoo\",\"tairua\",\"tuatapere\",\"bredasdorp\",\"silver city\",\"veracruz\",\"rincon\",\"hermanus\",\"toktogul\",\"lebu\",\"mahebourg\",\"yilan\",\"mumford\",\"atuona\",\"diffa\",\"saskylakh\",\"lompoc\",\"ribeira grande\",\"dana point\",\"castro\",\"upernavik\",\"kavieng\",\"barabinsk\",\"port lincoln\",\"malinovoye ozero\",\"ambatofinandrahana\",\"puerto del rosario\",\"pevek\",\"chuy\",\"zhezkazgan\",\"avarua\",\"batagay-alyta\",\"baltiysk\",\"parfino\",\"barrow\",\"hilo\",\"mackenzie\",\"lebanon\",\"nishihara\",\"antalaha\",\"narsaq\",\"hami\",\"shaoyang\",\"chokurdakh\",\"petropavlovsk-kamchatskiy\",\"leningradskiy\",\"mehamn\",\"vaini\",\"bara\",\"risch\",\"along\",\"vestmanna\",\"mwinilunga\",\"pozo colorado\",\"werder\",\"lovington\",\"qasigiannguit\",\"mackay\",\"pisco\",\"sisimiut\",\"banda aceh\",\"fortuna\",\"ouadda\",\"sucua\",\"nanortalik\",\"longyearbyen\",\"araouane\",\"barra patuca\",\"wattegama\",\"tuktoyaktuk\",\"tabou\",\"arraial do cabo\",\"stabat\",\"klaksvik\",\"alofi\",\"sumbawanga\",\"lagoa\",\"bambous virieux\",\"saint george\",\"hibbing\",\"bandar-e lengeh\",\"viedma\",\"port keats\",\"jinchang\",\"lata\",\"fairbanks\",\"olupona\",\"genhe\",\"dingle\",\"williamsburg\",\"anloga\",\"esperance\",\"saint-philippe\",\"provideniya\",\"dalvik\",\"salalah\",\"inta\",\"naze\",\"juneau\",\"kurumkan\",\"ranong\",\"cockburn town\",\"norman wells\",\"hoquiam\",\"georgetown\",\"ostrovnoy\",\"placido de castro\",\"suksun\",\"faanui\",\"ust-barguzin\",\"itacare\",\"nacogdoches\",\"cape canaveral\",\"puri\",\"tarnow\",\"jumla\",\"ust-kuyga\",\"rocha\",\"tasiilaq\",\"ribeira brava\",\"norrtalje\",\"warrington\",\"noumea\",\"meadow lake\",\"chimoio\",\"oussouye\",\"gazojak\",\"balikpapan\",\"torbay\",\"elko\",\"sao joao da barra\",\"saquena\",\"makokou\",\"hambantota\",\"beidao\",\"praia da vitoria\",\"port blair\",\"awbari\",\"reconquista\",\"aklavik\",\"teya\",\"edinet\",\"taoudenni\",\"goundam\",\"socorro\",\"merrill\",\"vagay\",\"comodoro rivadavia\",\"pudozh\",\"sambava\",\"batesville\",\"itaituba\",\"la asuncion\",\"east london\",\"chipinge\",\"cedartown\",\"miranda\",\"sabang\",\"abong mbang\",\"port hardy\",\"canon city\",\"santa quiteria do maranhao\",\"ryotsu\",\"pacific grove\",\"kishi\",\"obihiro\",\"katsuura\",\"saint augustine\",\"bushehr\",\"nizhniy kuranakh\",\"bonthe\",\"saint-augustin\",\"nizwa\",\"kamenka\",\"tiksi\",\"saint anthony\",\"vardo\",\"riyadh\",\"malim\",\"makakilo city\",\"henties bay\",\"caravelas\",\"gazli\",\"san juan\",\"moose factory\",\"fuerte olimpo\",\"saint-pierre\",\"raca\",\"san quintin\",\"sedro-woolley\",\"berdigestyakh\",\"high level\",\"khorramshahr\",\"san jose\",\"emba\",\"farcasu\",\"kruisfontein\",\"garango\",\"boa vista\",\"novopskov\",\"shimoda\",\"portland\",\"waingapu\",\"zuwarah\",\"muroto\",\"sao filipe\",\"lunenburg\",\"novyy urengoy\",\"ferry pass\",\"crotone\",\"arlit\",\"auki\",\"ambilobe\",\"ilhabela\",\"kirakira\",\"cidreira\",\"chambas\",\"gat\",\"petatlan\",\"nha trang\",\"hermosillo\",\"airai\",\"kahului\",\"yeppoon\",\"manavgat\",\"katima mulilo\",\"carutapera\",\"yar-sale\",\"haines junction\",\"half moon bay\",\"vanavara\",\"santander\",\"amuntai\",\"esmeraldas\",\"okhotsk\",\"datong\",\"sidi ali\",\"muravlenko\",\"amahai\",\"santa isabel do rio negro\",\"wageningen\",\"svetlogorsk\",\"paita\",\"maniitsoq\",\"port augusta\",\"yulara\",\"hofn\",\"pulupandan\",\"wajima\",\"dnestrovsc\",\"biak\",\"bam\",\"tacoronte\",\"otavi\",\"adrar\",\"srednekolymsk\",\"belmonte\",\"san cristobal\",\"callaway\",\"birao\",\"itoman\",\"uch\",\"santona\",\"onguday\",\"hangu\",\"geraldton\",\"gorele\",\"erenhot\",\"hauterive\",\"kerema\",\"jalu\",\"inhambane\",\"kenai\",\"joshimath\",\"hamilton\",\"talnakh\",\"egvekinot\",\"victoria\",\"atbasar\",\"bulembu\",\"hohhot\",\"halifax\",\"rehoboth\",\"beloha\",\"sehithwa\",\"burdur\",\"baruun-urt\",\"fagernes\",\"toyooka\",\"nantucket\",\"martaban\",\"puerto escondido\",\"port moresby\",\"malinovskiy\",\"kumluca\",\"salinas\",\"mount isa\",\"cherskiy\",\"gobabis\",\"bilma\",\"fort nelson\",\"quesnel\",\"dakar\",\"santiago del estero\",\"buala\",\"irbeyskoye\",\"vila franca do campo\",\"coihaique\",\"los llanos de aridane\",\"muros\",\"port hedland\",\"kieta\",\"green river\",\"mosonmagyarovar\",\"mindelo\",\"roblin\",\"la ronge\",\"tubuala\",\"port-gentil\",\"mordovo\",\"clyde river\",\"aykhal\",\"tuensang\",\"pascagoula\",\"canto do buriti\",\"bijie\",\"san-pedro\",\"luorong\",\"berlevag\",\"satipo\",\"rawson\",\"marsh harbour\",\"taupo\",\"san carlos de bariloche\",\"pervomayskoye\",\"chicama\",\"angoche\",\"brae\",\"manokwari\",\"mauganj\",\"te anau\",\"vila velha\",\"tautira\",\"dong xoai\",\"batemans bay\",\"diapaga\",\"mangrol\",\"mersing\",\"maldonado\",\"mikhaylovka\",\"temple\",\"gigmoto\",\"makow mazowiecki\",\"lasa\",\"mazamari\",\"matagami\",\"steamboat springs\",\"mount gambier\",\"chyhyryn\",\"nortelandia\",\"imperial\",\"progreso\",\"arriaga\",\"qusar\",\"tessalit\",\"de aar\",\"kutum\",\"ketchikan\",\"peleduy\",\"libenge\",\"tomatlan\",\"lalmohan\",\"serowe\",\"mihail kogalniceanu\",\"broken hill\",\"ajaccio\",\"suntar\",\"mezica\",\"sitka\",\"ewa beach\",\"songea\",\"monroe\",\"cravo norte\",\"ystad\",\"beyneu\",\"almaznyy\",\"vestmannaeyjar\",\"cananeia\",\"alta floresta\",\"maketu\",\"mecca\",\"manta\",\"nebug\",\"constitucion\",\"cabimas\",\"khudumelapye\",\"husavik\",\"olinda\",\"coquimbo\",\"kambove\",\"iquique\",\"yenagoa\",\"konakovo\",\"labuhan\",\"sampit\",\"gayny\",\"trafaria\",\"zyryanka\",\"soavinandriana\",\"xiongzhou\",\"batamshinskiy\",\"kailua\",\"kaliyaganj\",\"obo\",\"mushie\",\"ishigaki\",\"newport\",\"quang ngai\",\"butembo\",\"palmer\",\"motril\",\"patitirion\",\"omboue\",\"waipawa\",\"sakaiminato\",\"xingcheng\",\"necochea\",\"gao\",\"jiwani\",\"yurla\",\"codrington\",\"kalmunai\",\"flinders\",\"primorsko-akhtarsk\",\"ilulissat\",\"isfana\",\"borshchiv\",\"hobyo\",\"syamzha\",\"mahibadhoo\",\"tiznit\",\"point fortin\"],\"size\":{\"__ndarray__\":\"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\",\"dtype\":\"float64\",\"order\":\"little\",\"shape\":[535]}},\"selected\":{\"id\":\"2567\"},\"selection_policy\":{\"id\":\"2579\"}},\"id\":\"2566\",\"type\":\"ColumnDataSource\"},{\"attributes\":{\"dimension\":\"lon\"},\"id\":\"2534\",\"type\":\"MercatorTicker\"},{\"attributes\":{\"below\":[{\"id\":\"2511\"}],\"center\":[{\"id\":\"2514\"},{\"id\":\"2518\"}],\"frame_height\":500,\"frame_width\":986,\"height\":null,\"left\":[{\"id\":\"2515\"}],\"margin\":[5,5,5,5],\"match_aspect\":true,\"min_border_bottom\":10,\"min_border_left\":10,\"min_border_right\":10,\"min_border_top\":10,\"renderers\":[{\"id\":\"2563\"},{\"id\":\"2574\"}],\"right\":[{\"id\":\"2582\"}],\"sizing_mode\":\"fixed\",\"title\":{\"id\":\"2503\"},\"toolbar\":{\"id\":\"2525\"},\"width\":null,\"x_range\":{\"id\":\"2495\"},\"x_scale\":{\"id\":\"2507\"},\"y_range\":{\"id\":\"2496\"},\"y_scale\":{\"id\":\"2509\"}},\"id\":\"2502\",\"subtype\":\"Figure\",\"type\":\"Plot\"},{\"attributes\":{\"code\":\"\\n        var projections = Bokeh.require(\\\"core/util/projections\\\");\\n        var x = special_vars.data_x\\n        var y = special_vars.data_y\\n        if (projections.wgs84_mercator.invert == null) {\\n          var coords = projections.wgs84_mercator.inverse([x, y])\\n        } else {\\n          var coords = projections.wgs84_mercator.invert(x, y)\\n        }\\n        return \\\"\\\" + (coords[0]).toFixed(4)\\n    \"},\"id\":\"2584\",\"type\":\"CustomJSHover\"},{\"attributes\":{},\"id\":\"2507\",\"type\":\"LinearScale\"},{\"attributes\":{\"axis\":{\"id\":\"2515\"},\"coordinates\":null,\"dimension\":1,\"grid_line_color\":null,\"group\":null,\"ticker\":null},\"id\":\"2518\",\"type\":\"Grid\"},{\"attributes\":{\"fill_alpha\":{\"value\":0.5},\"fill_color\":{\"field\":\"color\",\"transform\":{\"id\":\"2565\"}},\"hatch_alpha\":{\"value\":0.5},\"hatch_color\":{\"field\":\"color\",\"transform\":{\"id\":\"2565\"}},\"line_alpha\":{\"value\":0.5},\"line_color\":{\"field\":\"color\",\"transform\":{\"id\":\"2565\"}},\"size\":{\"field\":\"size\"},\"x\":{\"field\":\"Lng\"},\"y\":{\"field\":\"Lat\"}},\"id\":\"2572\",\"type\":\"Scatter\"},{\"attributes\":{},\"id\":\"2547\",\"type\":\"AllLabels\"},{\"attributes\":{\"attribution\":\"&copy; <a href=\\\"https://www.openstreetmap.org/copyright\\\">OpenStreetMap</a> contributors\",\"url\":\"https://c.tile.openstreetmap.org/{Z}/{X}/{Y}.png\"},\"id\":\"2560\",\"type\":\"WMTSTileSource\"},{\"attributes\":{\"tools\":[{\"id\":\"2499\"},{\"id\":\"2519\"},{\"id\":\"2520\"},{\"id\":\"2521\"},{\"id\":\"2522\"},{\"id\":\"2523\"}]},\"id\":\"2525\",\"type\":\"Toolbar\"},{\"attributes\":{\"fill_alpha\":{\"value\":0.5},\"fill_color\":{\"field\":\"color\",\"transform\":{\"id\":\"2565\"}},\"hatch_alpha\":{\"value\":0.5},\"hatch_color\":{\"field\":\"color\",\"transform\":{\"id\":\"2565\"}},\"line_alpha\":{\"value\":0.5},\"line_color\":{\"field\":\"color\",\"transform\":{\"id\":\"2565\"}},\"size\":{\"field\":\"size\"},\"x\":{\"field\":\"Lng\"},\"y\":{\"field\":\"Lat\"}},\"id\":\"2569\",\"type\":\"Scatter\"},{\"attributes\":{\"coordinates\":null,\"group\":null,\"level\":\"glyph\",\"tile_source\":{\"id\":\"2560\"}},\"id\":\"2563\",\"type\":\"TileRenderer\"},{\"attributes\":{\"axis_label\":\"x\",\"coordinates\":null,\"formatter\":{\"id\":\"2535\"},\"group\":null,\"major_label_policy\":{\"id\":\"2540\"},\"ticker\":{\"id\":\"2534\"}},\"id\":\"2511\",\"type\":\"LinearAxis\"},{\"attributes\":{\"click_policy\":\"mute\",\"coordinates\":null,\"group\":null,\"items\":[{\"id\":\"2583\"}],\"location\":[0,0]},\"id\":\"2582\",\"type\":\"Legend\"},{\"attributes\":{},\"id\":\"2520\",\"type\":\"PanTool\"},{\"attributes\":{\"axis_label\":\"y\",\"coordinates\":null,\"formatter\":{\"id\":\"2537\"},\"group\":null,\"major_label_policy\":{\"id\":\"2547\"},\"ticker\":{\"id\":\"2536\"}},\"id\":\"2515\",\"type\":\"LinearAxis\"},{\"attributes\":{\"code\":\"\\n        var projections = Bokeh.require(\\\"core/util/projections\\\");\\n        var x = special_vars.data_x\\n        var y = special_vars.data_y\\n        if (projections.wgs84_mercator.invert == null) {\\n          var coords = projections.wgs84_mercator.inverse([x, y])\\n        } else {\\n          var coords = projections.wgs84_mercator.invert(x, y)\\n        }\\n        return \\\"\\\" + (coords[1]).toFixed(4)\\n    \"},\"id\":\"2585\",\"type\":\"CustomJSHover\"},{\"attributes\":{\"coordinates\":null,\"group\":null,\"text_color\":\"black\",\"text_font_size\":\"12pt\"},\"id\":\"2503\",\"type\":\"Title\"},{\"attributes\":{\"fill_alpha\":{\"value\":0.2},\"fill_color\":{\"field\":\"color\",\"transform\":{\"id\":\"2565\"}},\"hatch_alpha\":{\"value\":0.2},\"hatch_color\":{\"field\":\"color\",\"transform\":{\"id\":\"2565\"}},\"line_alpha\":{\"value\":0.2},\"line_color\":{\"field\":\"color\",\"transform\":{\"id\":\"2565\"}},\"size\":{\"field\":\"size\"},\"x\":{\"field\":\"Lng\"},\"y\":{\"field\":\"Lat\"}},\"id\":\"2573\",\"type\":\"Scatter\"},{\"attributes\":{\"margin\":[5,5,5,5],\"name\":\"HSpacer03152\",\"sizing_mode\":\"stretch_width\"},\"id\":\"2490\",\"type\":\"Spacer\"},{\"attributes\":{\"label\":{\"field\":\"color\"},\"renderers\":[{\"id\":\"2574\"}]},\"id\":\"2583\",\"type\":\"LegendItem\"},{\"attributes\":{\"factors\":[\"severo-kurilsk\",\"darhan\",\"tarakan\",\"komsomolskiy\",\"souillac\",\"jiuquan\",\"sesheke\",\"punta arenas\",\"clarence town\",\"mataura\",\"magadan\",\"salym\",\"carnarvon\",\"puerto ayora\",\"arys\",\"prince rupert\",\"albany\",\"dikson\",\"kapaa\",\"rikitea\",\"rio gallegos\",\"kropotkin\",\"butaritari\",\"dahra\",\"khatanga\",\"stephenville\",\"hobart\",\"north bend\",\"ponta do sol\",\"faya\",\"vryburg\",\"hasaki\",\"zhigansk\",\"ushuaia\",\"thompson\",\"margate\",\"oksfjord\",\"chumikan\",\"kudat\",\"jamestown\",\"laguna\",\"abu zabad\",\"saint-joseph\",\"cabo san lucas\",\"new norfolk\",\"port alfred\",\"kirkwall\",\"luderitz\",\"bethel\",\"vao\",\"saldanha\",\"melo\",\"college\",\"prinos\",\"kodiak\",\"cabo rojo\",\"nuevo ideal\",\"yumen\",\"khonsa\",\"biloela\",\"sungaipenuh\",\"namatanai\",\"kungurtug\",\"port elizabeth\",\"busselton\",\"san rafael\",\"cape town\",\"hovd\",\"isangel\",\"ancud\",\"humenne\",\"natal\",\"moron\",\"kaitangata\",\"poya\",\"yellowknife\",\"pangai\",\"havre-saint-pierre\",\"takoradi\",\"bathsheba\",\"kirksville\",\"pangody\",\"qaanaaq\",\"hithadhoo\",\"cambridge\",\"damaturu\",\"carbonear\",\"nikolskoye\",\"mar del plata\",\"charlestown\",\"touros\",\"boissevain\",\"bluff\",\"kudahuvadhoo\",\"tairua\",\"tuatapere\",\"bredasdorp\",\"silver city\",\"veracruz\",\"rincon\",\"hermanus\",\"toktogul\",\"lebu\",\"mahebourg\",\"yilan\",\"mumford\",\"atuona\",\"diffa\",\"saskylakh\",\"lompoc\",\"ribeira grande\",\"dana point\",\"castro\",\"upernavik\",\"kavieng\",\"barabinsk\",\"port lincoln\",\"malinovoye ozero\",\"ambatofinandrahana\",\"puerto del rosario\",\"pevek\",\"chuy\",\"zhezkazgan\",\"avarua\",\"batagay-alyta\",\"baltiysk\",\"parfino\",\"barrow\",\"hilo\",\"mackenzie\",\"lebanon\",\"nishihara\",\"antalaha\",\"narsaq\",\"hami\",\"shaoyang\",\"chokurdakh\",\"petropavlovsk-kamchatskiy\",\"leningradskiy\",\"mehamn\",\"vaini\",\"bara\",\"risch\",\"along\",\"vestmanna\",\"mwinilunga\",\"pozo colorado\",\"werder\",\"lovington\",\"qasigiannguit\",\"mackay\",\"pisco\",\"sisimiut\",\"banda aceh\",\"fortuna\",\"ouadda\",\"sucua\",\"nanortalik\",\"longyearbyen\",\"araouane\",\"barra patuca\",\"wattegama\",\"tuktoyaktuk\",\"tabou\",\"arraial do cabo\",\"stabat\",\"klaksvik\",\"alofi\",\"sumbawanga\",\"lagoa\",\"bambous virieux\",\"saint george\",\"hibbing\",\"bandar-e lengeh\",\"viedma\",\"port keats\",\"jinchang\",\"lata\",\"fairbanks\",\"olupona\",\"genhe\",\"dingle\",\"williamsburg\",\"anloga\",\"esperance\",\"saint-philippe\",\"provideniya\",\"dalvik\",\"salalah\",\"inta\",\"naze\",\"juneau\",\"kurumkan\",\"ranong\",\"cockburn town\",\"norman wells\",\"hoquiam\",\"georgetown\",\"ostrovnoy\",\"placido de castro\",\"suksun\",\"faanui\",\"ust-barguzin\",\"itacare\",\"nacogdoches\",\"cape canaveral\",\"puri\",\"tarnow\",\"jumla\",\"ust-kuyga\",\"rocha\",\"tasiilaq\",\"ribeira brava\",\"norrtalje\",\"warrington\",\"noumea\",\"meadow lake\",\"chimoio\",\"oussouye\",\"gazojak\",\"balikpapan\",\"torbay\",\"elko\",\"sao joao da barra\",\"saquena\",\"makokou\",\"hambantota\",\"beidao\",\"praia da vitoria\",\"port blair\",\"awbari\",\"reconquista\",\"aklavik\",\"teya\",\"edinet\",\"taoudenni\",\"goundam\",\"socorro\",\"merrill\",\"vagay\",\"comodoro rivadavia\",\"pudozh\",\"sambava\",\"batesville\",\"itaituba\",\"la asuncion\",\"east london\",\"chipinge\",\"cedartown\",\"miranda\",\"sabang\",\"abong mbang\",\"port hardy\",\"canon city\",\"santa quiteria do maranhao\",\"ryotsu\",\"pacific grove\",\"kishi\",\"obihiro\",\"katsuura\",\"saint augustine\",\"bushehr\",\"nizhniy kuranakh\",\"bonthe\",\"saint-augustin\",\"nizwa\",\"kamenka\",\"tiksi\",\"saint anthony\",\"vardo\",\"riyadh\",\"malim\",\"makakilo city\",\"henties bay\",\"caravelas\",\"gazli\",\"san juan\",\"moose factory\",\"fuerte olimpo\",\"saint-pierre\",\"raca\",\"san quintin\",\"sedro-woolley\",\"berdigestyakh\",\"high level\",\"khorramshahr\",\"san jose\",\"emba\",\"farcasu\",\"kruisfontein\",\"garango\",\"boa vista\",\"novopskov\",\"shimoda\",\"portland\",\"waingapu\",\"zuwarah\",\"muroto\",\"sao filipe\",\"lunenburg\",\"novyy urengoy\",\"ferry pass\",\"crotone\",\"arlit\",\"auki\",\"ambilobe\",\"ilhabela\",\"kirakira\",\"cidreira\",\"chambas\",\"gat\",\"petatlan\",\"nha trang\",\"hermosillo\",\"airai\",\"kahului\",\"yeppoon\",\"manavgat\",\"katima mulilo\",\"carutapera\",\"yar-sale\",\"haines junction\",\"half moon bay\",\"vanavara\",\"santander\",\"amuntai\",\"esmeraldas\",\"okhotsk\",\"datong\",\"sidi ali\",\"muravlenko\",\"amahai\",\"santa isabel do rio negro\",\"wageningen\",\"svetlogorsk\",\"paita\",\"maniitsoq\",\"port augusta\",\"yulara\",\"hofn\",\"pulupandan\",\"wajima\",\"dnestrovsc\",\"biak\",\"bam\",\"tacoronte\",\"otavi\",\"adrar\",\"srednekolymsk\",\"belmonte\",\"san cristobal\",\"callaway\",\"birao\",\"itoman\",\"uch\",\"santona\",\"onguday\",\"hangu\",\"geraldton\",\"gorele\",\"erenhot\",\"hauterive\",\"kerema\",\"jalu\",\"inhambane\",\"kenai\",\"joshimath\",\"hamilton\",\"talnakh\",\"egvekinot\",\"victoria\",\"atbasar\",\"bulembu\",\"hohhot\",\"halifax\",\"rehoboth\",\"beloha\",\"sehithwa\",\"burdur\",\"baruun-urt\",\"fagernes\",\"toyooka\",\"nantucket\",\"martaban\",\"puerto escondido\",\"port moresby\",\"malinovskiy\",\"kumluca\",\"salinas\",\"mount isa\",\"cherskiy\",\"gobabis\",\"bilma\",\"fort nelson\",\"quesnel\",\"dakar\",\"santiago del estero\",\"buala\",\"irbeyskoye\",\"vila franca do campo\",\"coihaique\",\"los llanos de aridane\",\"muros\",\"port hedland\",\"kieta\",\"green river\",\"mosonmagyarovar\",\"mindelo\",\"roblin\",\"la ronge\",\"tubuala\",\"port-gentil\",\"mordovo\",\"clyde river\",\"aykhal\",\"tuensang\",\"pascagoula\",\"canto do buriti\",\"bijie\",\"san-pedro\",\"luorong\",\"berlevag\",\"satipo\",\"rawson\",\"marsh harbour\",\"taupo\",\"san carlos de bariloche\",\"pervomayskoye\",\"chicama\",\"angoche\",\"brae\",\"manokwari\",\"mauganj\",\"te anau\",\"vila velha\",\"tautira\",\"dong xoai\",\"batemans bay\",\"diapaga\",\"mangrol\",\"mersing\",\"maldonado\",\"mikhaylovka\",\"temple\",\"gigmoto\",\"makow mazowiecki\",\"lasa\",\"mazamari\",\"matagami\",\"steamboat springs\",\"mount gambier\",\"chyhyryn\",\"nortelandia\",\"imperial\",\"progreso\",\"arriaga\",\"qusar\",\"tessalit\",\"de aar\",\"kutum\",\"ketchikan\",\"peleduy\",\"libenge\",\"tomatlan\",\"lalmohan\",\"serowe\",\"mihail kogalniceanu\",\"broken hill\",\"ajaccio\",\"suntar\",\"mezica\",\"sitka\",\"ewa beach\",\"songea\",\"monroe\",\"cravo norte\",\"ystad\",\"beyneu\",\"almaznyy\",\"vestmannaeyjar\",\"cananeia\",\"alta floresta\",\"maketu\",\"mecca\",\"manta\",\"nebug\",\"constitucion\",\"cabimas\",\"khudumelapye\",\"husavik\",\"olinda\",\"coquimbo\",\"kambove\",\"iquique\",\"yenagoa\",\"konakovo\",\"labuhan\",\"sampit\",\"gayny\",\"trafaria\",\"zyryanka\",\"soavinandriana\",\"xiongzhou\",\"batamshinskiy\",\"kailua\",\"kaliyaganj\",\"obo\",\"mushie\",\"ishigaki\",\"newport\",\"quang ngai\",\"butembo\",\"palmer\",\"motril\",\"patitirion\",\"omboue\",\"waipawa\",\"sakaiminato\",\"xingcheng\",\"necochea\",\"gao\",\"jiwani\",\"yurla\",\"codrington\",\"kalmunai\",\"flinders\",\"primorsko-akhtarsk\",\"ilulissat\",\"isfana\",\"borshchiv\",\"hobyo\",\"syamzha\",\"mahibadhoo\",\"tiznit\",\"point fortin\"],\"palette\":[\"#1f77b3\",\"#ff7e0e\",\"#2ba02b\",\"#d62628\",\"#9367bc\",\"#8c564b\",\"#e277c1\",\"#7e7e7e\",\"#bcbc21\",\"#16bdcf\",\"#3a0182\",\"#004201\",\"#0fffa8\",\"#5d003f\",\"#bcbcff\",\"#d8afa1\",\"#b80080\",\"#004d52\",\"#6b6400\",\"#7c0100\",\"#6026ff\",\"#ffff9a\",\"#564964\",\"#8cb893\",\"#93fbff\",\"#018267\",\"#90ff00\",\"#8200a0\",\"#ac8944\",\"#5b3400\",\"#ffbff2\",\"#ff6e75\",\"#798cff\",\"#dd00ff\",\"#505646\",\"#004489\",\"#ffbf60\",\"#ff018c\",\"#bdc8cf\",\"#af97b5\",\"#b65600\",\"#017000\",\"#cd87ff\",\"#1cd646\",\"#bfebc3\",\"#7997b5\",\"#a56089\",\"#6e8956\",\"#bc7c75\",\"#8a2844\",\"#00acff\",\"#8ed4ff\",\"#4b6d77\",\"#00d4b1\",\"#9300f2\",\"#8a9500\",\"#5d5b9e\",\"#fddfba\",\"#00939e\",\"#ffdb00\",\"#00aa79\",\"#520067\",\"#000091\",\"#0a5d3d\",\"#a5e275\",\"#623b41\",\"#c6c689\",\"#ff9eb5\",\"#cd4f6b\",\"#ff07d6\",\"#8a3a05\",\"#7e3d70\",\"#ff4901\",\"#602ba5\",\"#1c00ff\",\"#e6dfff\",\"#aa3baf\",\"#d89c00\",\"#a3a39e\",\"#3f69ff\",\"#46490c\",\"#7b6985\",\"#6b978c\",\"#ff9a75\",\"#835bff\",\"#7c6b46\",\"#80b654\",\"#bc0049\",\"#fd93ff\",\"#5d0018\",\"#89d1d1\",\"#9c8cd3\",\"#da6d42\",\"#8a5700\",\"#3b5069\",\"#4b6b3b\",\"#edcfd8\",\"#cfedff\",\"#aa1500\",\"#dfff4f\",\"#ff2a56\",\"#d1499e\",\"#707cb8\",\"#598000\",\"#00e4fd\",\"#774b95\",\"#67d48c\",\"#3d3a72\",\"#ac413f\",\"#d6a166\",\"#c169cd\",\"#69595d\",\"#87aced\",\"#a0a569\",\"#d1aae6\",\"#870062\",\"#00fddb\",\"#672818\",\"#b342ff\",\"#0e59c4\",\"#168742\",\"#90d300\",\"#cd7900\",\"#f959ff\",\"#5b7466\",\"#8eaeb3\",\"#9c7c8c\",\"#4600c6\",\"#6b4d2d\",\"#a56d46\",\"#9e8972\",\"#a8afca\",\"#cd8ca7\",\"#00fd64\",\"#917900\",\"#ff62a1\",\"#f4ffd8\",\"#018cf0\",\"#13aca0\",\"#5b2d59\",\"#89859e\",\"#cfccba\",\"#d4afc4\",\"#dbdd6d\",\"#cffff4\",\"#006485\",\"#006962\",\"#a84167\",\"#2d97c4\",\"#a874ff\",\"#26ba5d\",\"#57b600\",\"#caffa7\",\"#a379aa\",\"#ffbc93\",\"#89e2c1\",\"#0fc8ff\",\"#d400c4\",\"#626d89\",\"#69858e\",\"#4b4d52\",\"#aa6067\",\"#79b5d4\",\"#2b5916\",\"#9a0024\",\"#bdd1f2\",\"#896e67\",\"#69a56b\",\"#855467\",\"#aecdba\",\"#87997e\",\"#cadb00\",\"#9a0390\",\"#ebbc1a\",\"#eb9cd1\",\"#70006e\",\"#b1a131\",\"#ca6b93\",\"#4146a3\",\"#e48c89\",\"#d44400\",\"#c68aca\",\"#b69597\",\"#d41f75\",\"#724bcc\",\"#674d00\",\"#672138\",\"#38564f\",\"#6ebaaa\",\"#853a31\",\"#a5d397\",\"#b8af8e\",\"#d8e4df\",\"#aa00df\",\"#cac1db\",\"#ffdf8c\",\"#e2524d\",\"#66696e\",\"#ff001c\",\"#522d72\",\"#4d906b\",\"#a86d11\",\"#ff9e26\",\"#5ea3af\",\"#c88556\",\"#915997\",\"#a3a1ff\",\"#fdbaba\",\"#242a87\",\"#dbe6a8\",\"#97f2a7\",\"#6793d6\",\"#ba5b3f\",\"#3a5d91\",\"#364f2f\",\"#267c95\",\"#89959a\",\"#cfb356\",\"#004664\",\"#5e5d2f\",\"#8e8e41\",\"#ac3f13\",\"#69953b\",\"#a13d85\",\"#bfb6ba\",\"#acc667\",\"#6469cf\",\"#91af00\",\"#2be2da\",\"#016e36\",\"#ff7952\",\"#42807e\",\"#4fe800\",\"#995428\",\"#5d0a00\",\"#a30057\",\"#0c8700\",\"#5982a7\",\"#ffebfb\",\"#4b6901\",\"#8775d4\",\"#e6c6ff\",\"#a5ffda\",\"#d86e77\",\"#df014b\",\"#69675b\",\"#776ba1\",\"#7e8067\",\"#594685\",\"#0000ca\",\"#7c002a\",\"#97ff72\",\"#b5e2e1\",\"#db52c8\",\"#777734\",\"#57bd8e\",\"#1f77b3\",\"#ff7e0e\",\"#2ba02b\",\"#d62628\",\"#9367bc\",\"#8c564b\",\"#e277c1\",\"#7e7e7e\",\"#bcbc21\",\"#16bdcf\",\"#3a0182\",\"#004201\",\"#0fffa8\",\"#5d003f\",\"#bcbcff\",\"#d8afa1\",\"#b80080\",\"#004d52\",\"#6b6400\",\"#7c0100\",\"#6026ff\",\"#ffff9a\",\"#564964\",\"#8cb893\",\"#93fbff\",\"#018267\",\"#90ff00\",\"#8200a0\",\"#ac8944\",\"#5b3400\",\"#ffbff2\",\"#ff6e75\",\"#798cff\",\"#dd00ff\",\"#505646\",\"#004489\",\"#ffbf60\",\"#ff018c\",\"#bdc8cf\",\"#af97b5\",\"#b65600\",\"#017000\",\"#cd87ff\",\"#1cd646\",\"#bfebc3\",\"#7997b5\",\"#a56089\",\"#6e8956\",\"#bc7c75\",\"#8a2844\",\"#00acff\",\"#8ed4ff\",\"#4b6d77\",\"#00d4b1\",\"#9300f2\",\"#8a9500\",\"#5d5b9e\",\"#fddfba\",\"#00939e\",\"#ffdb00\",\"#00aa79\",\"#520067\",\"#000091\",\"#0a5d3d\",\"#a5e275\",\"#623b41\",\"#c6c689\",\"#ff9eb5\",\"#cd4f6b\",\"#ff07d6\",\"#8a3a05\",\"#7e3d70\",\"#ff4901\",\"#602ba5\",\"#1c00ff\",\"#e6dfff\",\"#aa3baf\",\"#d89c00\",\"#a3a39e\",\"#3f69ff\",\"#46490c\",\"#7b6985\",\"#6b978c\",\"#ff9a75\",\"#835bff\",\"#7c6b46\",\"#80b654\",\"#bc0049\",\"#fd93ff\",\"#5d0018\",\"#89d1d1\",\"#9c8cd3\",\"#da6d42\",\"#8a5700\",\"#3b5069\",\"#4b6b3b\",\"#edcfd8\",\"#cfedff\",\"#aa1500\",\"#dfff4f\",\"#ff2a56\",\"#d1499e\",\"#707cb8\",\"#598000\",\"#00e4fd\",\"#774b95\",\"#67d48c\",\"#3d3a72\",\"#ac413f\",\"#d6a166\",\"#c169cd\",\"#69595d\",\"#87aced\",\"#a0a569\",\"#d1aae6\",\"#870062\",\"#00fddb\",\"#672818\",\"#b342ff\",\"#0e59c4\",\"#168742\",\"#90d300\",\"#cd7900\",\"#f959ff\",\"#5b7466\",\"#8eaeb3\",\"#9c7c8c\",\"#4600c6\",\"#6b4d2d\",\"#a56d46\",\"#9e8972\",\"#a8afca\",\"#cd8ca7\",\"#00fd64\",\"#917900\",\"#ff62a1\",\"#f4ffd8\",\"#018cf0\",\"#13aca0\",\"#5b2d59\",\"#89859e\",\"#cfccba\",\"#d4afc4\",\"#dbdd6d\",\"#cffff4\",\"#006485\",\"#006962\",\"#a84167\",\"#2d97c4\",\"#a874ff\",\"#26ba5d\",\"#57b600\",\"#caffa7\",\"#a379aa\",\"#ffbc93\",\"#89e2c1\",\"#0fc8ff\",\"#d400c4\",\"#626d89\",\"#69858e\",\"#4b4d52\",\"#aa6067\",\"#79b5d4\",\"#2b5916\",\"#9a0024\",\"#bdd1f2\",\"#896e67\",\"#69a56b\",\"#855467\",\"#aecdba\",\"#87997e\",\"#cadb00\",\"#9a0390\",\"#ebbc1a\",\"#eb9cd1\",\"#70006e\",\"#b1a131\",\"#ca6b93\",\"#4146a3\",\"#e48c89\",\"#d44400\",\"#c68aca\",\"#b69597\",\"#d41f75\",\"#724bcc\",\"#674d00\",\"#672138\",\"#38564f\",\"#6ebaaa\",\"#853a31\",\"#a5d397\",\"#b8af8e\",\"#d8e4df\",\"#aa00df\",\"#cac1db\",\"#ffdf8c\",\"#e2524d\",\"#66696e\",\"#ff001c\",\"#522d72\",\"#4d906b\",\"#a86d11\",\"#ff9e26\",\"#5ea3af\",\"#c88556\",\"#915997\",\"#a3a1ff\",\"#fdbaba\",\"#242a87\",\"#dbe6a8\",\"#97f2a7\",\"#6793d6\",\"#ba5b3f\",\"#3a5d91\",\"#364f2f\",\"#267c95\",\"#89959a\",\"#cfb356\",\"#004664\",\"#5e5d2f\",\"#8e8e41\",\"#ac3f13\",\"#69953b\",\"#a13d85\",\"#bfb6ba\",\"#acc667\",\"#6469cf\",\"#91af00\",\"#2be2da\",\"#016e36\",\"#ff7952\",\"#42807e\",\"#4fe800\",\"#995428\",\"#5d0a00\",\"#a30057\",\"#0c8700\",\"#5982a7\",\"#ffebfb\",\"#4b6901\",\"#8775d4\",\"#e6c6ff\",\"#a5ffda\",\"#d86e77\",\"#df014b\",\"#69675b\",\"#776ba1\",\"#7e8067\",\"#594685\",\"#0000ca\",\"#7c002a\",\"#97ff72\",\"#b5e2e1\",\"#db52c8\",\"#777734\",\"#57bd8e\",\"#1f77b3\",\"#ff7e0e\",\"#2ba02b\",\"#d62628\",\"#9367bc\",\"#8c564b\",\"#e277c1\",\"#7e7e7e\",\"#bcbc21\",\"#16bdcf\",\"#3a0182\",\"#004201\",\"#0fffa8\",\"#5d003f\",\"#bcbcff\",\"#d8afa1\",\"#b80080\",\"#004d52\",\"#6b6400\",\"#7c0100\",\"#6026ff\",\"#ffff9a\",\"#564964\"]},\"id\":\"2565\",\"type\":\"CategoricalColorMapper\"},{\"attributes\":{\"zoom_on_axis\":false},\"id\":\"2521\",\"type\":\"WheelZoomTool\"},{\"attributes\":{},\"id\":\"2540\",\"type\":\"AllLabels\"},{\"attributes\":{},\"id\":\"2519\",\"type\":\"SaveTool\"},{\"attributes\":{\"end\":15682804.813865663,\"min_interval\":5,\"reset_end\":15682804.813865663,\"reset_start\":-8520329.859256474,\"start\":-8520329.859256474,\"tags\":[[[\"Lat\",\"Lat\",null]]]},\"id\":\"2496\",\"type\":\"Range1d\"},{\"attributes\":{},\"id\":\"2567\",\"type\":\"Selection\"},{\"attributes\":{},\"id\":\"2509\",\"type\":\"LinearScale\"},{\"attributes\":{\"axis\":{\"id\":\"2511\"},\"coordinates\":null,\"grid_line_color\":null,\"group\":null,\"ticker\":null},\"id\":\"2514\",\"type\":\"Grid\"},{\"attributes\":{\"dimension\":\"lon\"},\"id\":\"2535\",\"type\":\"MercatorTickFormatter\"},{\"attributes\":{\"match_aspect\":true,\"overlay\":{\"id\":\"2524\"}},\"id\":\"2522\",\"type\":\"BoxZoomTool\"},{\"attributes\":{\"fill_alpha\":{\"value\":0.5},\"fill_color\":{\"field\":\"color\",\"transform\":{\"id\":\"2565\"}},\"hatch_alpha\":{\"value\":0.5},\"hatch_color\":{\"field\":\"color\",\"transform\":{\"id\":\"2565\"}},\"line_alpha\":{\"value\":0.5},\"line_color\":{\"field\":\"color\",\"transform\":{\"id\":\"2565\"}},\"size\":{\"field\":\"size\"},\"x\":{\"field\":\"Lng\"},\"y\":{\"field\":\"Lat\"}},\"id\":\"2571\",\"type\":\"Scatter\"},{\"attributes\":{},\"id\":\"2523\",\"type\":\"ResetTool\"},{\"attributes\":{\"dimension\":\"lat\"},\"id\":\"2537\",\"type\":\"MercatorTickFormatter\"},{\"attributes\":{\"children\":[{\"id\":\"2490\"},{\"id\":\"2502\"},{\"id\":\"2592\"}],\"margin\":[0,0,0,0],\"name\":\"Row03148\",\"tags\":[\"embedded\"]},\"id\":\"2489\",\"type\":\"Row\"},{\"attributes\":{\"bottom_units\":\"screen\",\"coordinates\":null,\"fill_alpha\":0.5,\"fill_color\":\"lightgrey\",\"group\":null,\"left_units\":\"screen\",\"level\":\"overlay\",\"line_alpha\":1.0,\"line_color\":\"black\",\"line_dash\":[4,4],\"line_width\":2,\"right_units\":\"screen\",\"syncable\":false,\"top_units\":\"screen\"},\"id\":\"2524\",\"type\":\"BoxAnnotation\"},{\"attributes\":{\"margin\":[5,5,5,5],\"name\":\"HSpacer03153\",\"sizing_mode\":\"stretch_width\"},\"id\":\"2592\",\"type\":\"Spacer\"},{\"attributes\":{\"fill_alpha\":{\"value\":0.5},\"fill_color\":{\"field\":\"color\",\"transform\":{\"id\":\"2565\"}},\"hatch_alpha\":{\"value\":0.1},\"hatch_color\":{\"field\":\"color\",\"transform\":{\"id\":\"2565\"}},\"line_alpha\":{\"value\":0.5},\"line_color\":{\"field\":\"color\",\"transform\":{\"id\":\"2565\"}},\"size\":{\"field\":\"size\"},\"x\":{\"field\":\"Lng\"},\"y\":{\"field\":\"Lat\"}},\"id\":\"2570\",\"type\":\"Scatter\"}],\"root_ids\":[\"2489\"]},\"title\":\"Bokeh Application\",\"version\":\"2.4.3\"}};\n",
       "    var render_items = [{\"docid\":\"875c65f9-4df6-4e49-b4a9-9b15e41e20b1\",\"root_ids\":[\"2489\"],\"roots\":{\"2489\":\"5f91a315-1f66-4879-9a93-dc7e80f013af\"}}];\n",
       "    root.Bokeh.embed.embed_items_notebook(docs_json, render_items);\n",
       "  }\n",
       "  if (root.Bokeh !== undefined && root.Bokeh.Panel !== undefined) {\n",
       "    embed_document(root);\n",
       "  } else {\n",
       "    var attempts = 0;\n",
       "    var timer = setInterval(function(root) {\n",
       "      if (root.Bokeh !== undefined && root.Bokeh.Panel !== undefined) {\n",
       "        clearInterval(timer);\n",
       "        embed_document(root);\n",
       "      } else if (document.readyState == \"complete\") {\n",
       "        attempts++;\n",
       "        if (attempts > 200) {\n",
       "          clearInterval(timer);\n",
       "          console.log(\"Bokeh: ERROR: Unable to run BokehJS code because BokehJS library is missing\");\n",
       "        }\n",
       "      }\n",
       "    }, 25, root)\n",
       "  }\n",
       "})(window);</script>"
      ],
      "text/plain": [
       ":Overlay\n",
       "   .Tiles.I  :Tiles   [x,y]\n",
       "   .Points.I :Points   [Lng,Lat]   (City,Humidity)"
      ]
     },
     "execution_count": 49,
     "metadata": {
      "application/vnd.holoviews_exec.v0+json": {
       "id": "2489"
      }
     },
     "output_type": "execute_result"
    }
   ],
   "source": [
    "%%capture --no-display\n",
    "\n",
    "# Configure the map plot\n",
    "city_map = city_data_df.hvplot.points(\n",
    "    \"Lng\",\n",
    "    \"Lat\",\n",
    "    geo = True,\n",
    "    tiles = \"OSM\",\n",
    "    framde_width = 500,\n",
    "    frame_height = 500,\n",
    "    size = \"Humidity\",\n",
    "    scale = 1,\n",
    "    color = \"City\",\n",
    "    alpha = 0.5\n",
    ")\n",
    "\n",
    "# Display the map\n",
    "city_map"
   ]
  },
  {
   "cell_type": "markdown",
   "metadata": {},
   "source": [
    "### Step 2: Narrow down the `city_data_df` DataFrame to find your ideal weather condition"
   ]
  },
  {
   "cell_type": "code",
   "execution_count": 50,
   "metadata": {},
   "outputs": [
    {
     "data": {
      "text/html": [
       "<div>\n",
       "<style scoped>\n",
       "    .dataframe tbody tr th:only-of-type {\n",
       "        vertical-align: middle;\n",
       "    }\n",
       "\n",
       "    .dataframe tbody tr th {\n",
       "        vertical-align: top;\n",
       "    }\n",
       "\n",
       "    .dataframe thead th {\n",
       "        text-align: right;\n",
       "    }\n",
       "</style>\n",
       "<table border=\"1\" class=\"dataframe\">\n",
       "  <thead>\n",
       "    <tr style=\"text-align: right;\">\n",
       "      <th></th>\n",
       "      <th>City_ID</th>\n",
       "      <th>City</th>\n",
       "      <th>Cloudiness</th>\n",
       "      <th>Country</th>\n",
       "      <th>Date</th>\n",
       "      <th>Humidity</th>\n",
       "      <th>Lat</th>\n",
       "      <th>Lng</th>\n",
       "      <th>Max Temp</th>\n",
       "      <th>Wind Speed</th>\n",
       "    </tr>\n",
       "  </thead>\n",
       "  <tbody>\n",
       "    <tr>\n",
       "      <th>12</th>\n",
       "      <td>12</td>\n",
       "      <td>carnarvon</td>\n",
       "      <td>0</td>\n",
       "      <td>ZA</td>\n",
       "      <td>1534988027</td>\n",
       "      <td>66</td>\n",
       "      <td>-30.97</td>\n",
       "      <td>22.13</td>\n",
       "      <td>24.3</td>\n",
       "      <td>2.84</td>\n",
       "    </tr>\n",
       "    <tr>\n",
       "      <th>458</th>\n",
       "      <td>458</td>\n",
       "      <td>de aar</td>\n",
       "      <td>0</td>\n",
       "      <td>ZA</td>\n",
       "      <td>1534988184</td>\n",
       "      <td>63</td>\n",
       "      <td>-30.65</td>\n",
       "      <td>24.01</td>\n",
       "      <td>27.0</td>\n",
       "      <td>2.84</td>\n",
       "    </tr>\n",
       "  </tbody>\n",
       "</table>\n",
       "</div>"
      ],
      "text/plain": [
       "     City_ID       City  Cloudiness Country        Date  Humidity    Lat  \\\n",
       "12        12  carnarvon           0      ZA  1534988027        66 -30.97   \n",
       "458      458     de aar           0      ZA  1534988184        63 -30.65   \n",
       "\n",
       "       Lng  Max Temp  Wind Speed  \n",
       "12   22.13      24.3        2.84  \n",
       "458  24.01      27.0        2.84  "
      ]
     },
     "execution_count": 50,
     "metadata": {},
     "output_type": "execute_result"
    }
   ],
   "source": [
    "# Narrow down cities that fit criteria and drop any results with null values\n",
    "ideal_weather = city_data_df.loc[(city_data_df[\"Max Temp\"] <= 27) & (city_data_df[\"Max Temp\"] >= 21) & (city_data_df[\"Wind Speed\"] <= 4.5) & (city_data_df[\"Cloudiness\"] == 0)]\n",
    "\n",
    "# Drop any rows with null values\n",
    "ideal_weather = ideal_weather.dropna()\n",
    "\n",
    "# Display sample data\n",
    "ideal_weather"
   ]
  },
  {
   "cell_type": "code",
   "execution_count": 51,
   "metadata": {},
   "outputs": [
    {
     "data": {
      "text/plain": [
       "2"
      ]
     },
     "execution_count": 51,
     "metadata": {},
     "output_type": "execute_result"
    }
   ],
   "source": [
    "len(ideal_weather)"
   ]
  },
  {
   "cell_type": "markdown",
   "metadata": {},
   "source": [
    "### Step 3: Create a new DataFrame called `hotel_df`."
   ]
  },
  {
   "cell_type": "code",
   "execution_count": 52,
   "metadata": {},
   "outputs": [
    {
     "data": {
      "text/html": [
       "<div>\n",
       "<style scoped>\n",
       "    .dataframe tbody tr th:only-of-type {\n",
       "        vertical-align: middle;\n",
       "    }\n",
       "\n",
       "    .dataframe tbody tr th {\n",
       "        vertical-align: top;\n",
       "    }\n",
       "\n",
       "    .dataframe thead th {\n",
       "        text-align: right;\n",
       "    }\n",
       "</style>\n",
       "<table border=\"1\" class=\"dataframe\">\n",
       "  <thead>\n",
       "    <tr style=\"text-align: right;\">\n",
       "      <th></th>\n",
       "      <th>City</th>\n",
       "      <th>Country</th>\n",
       "      <th>Lat</th>\n",
       "      <th>Lng</th>\n",
       "      <th>Humidity</th>\n",
       "      <th>Hotel Name</th>\n",
       "    </tr>\n",
       "  </thead>\n",
       "  <tbody>\n",
       "    <tr>\n",
       "      <th>12</th>\n",
       "      <td>carnarvon</td>\n",
       "      <td>ZA</td>\n",
       "      <td>-30.97</td>\n",
       "      <td>22.13</td>\n",
       "      <td>66</td>\n",
       "      <td></td>\n",
       "    </tr>\n",
       "    <tr>\n",
       "      <th>458</th>\n",
       "      <td>de aar</td>\n",
       "      <td>ZA</td>\n",
       "      <td>-30.65</td>\n",
       "      <td>24.01</td>\n",
       "      <td>63</td>\n",
       "      <td></td>\n",
       "    </tr>\n",
       "  </tbody>\n",
       "</table>\n",
       "</div>"
      ],
      "text/plain": [
       "          City Country    Lat    Lng  Humidity Hotel Name\n",
       "12   carnarvon      ZA -30.97  22.13        66           \n",
       "458     de aar      ZA -30.65  24.01        63           "
      ]
     },
     "execution_count": 52,
     "metadata": {},
     "output_type": "execute_result"
    }
   ],
   "source": [
    "# Use the Pandas copy function to create DataFrame called hotel_df to store the city, country, coordinates, and humidity\n",
    "hotel_df = ideal_weather[[\"City\", \"Country\", \"Lat\", \"Lng\", \"Humidity\"]]\n",
    "\n",
    "# Add an empty column, \"Hotel Name,\" to the DataFrame so you can store the hotel found using the Geoapify API\n",
    "hotel_df[\"Hotel Name\"] = \"\"\n",
    "\n",
    "# Display sample data\n",
    "hotel_df"
   ]
  },
  {
   "cell_type": "markdown",
   "metadata": {},
   "source": [
    "### Step 4: For each city, use the Geoapify API to find the first hotel located within 10,000 metres of your coordinates."
   ]
  },
  {
   "cell_type": "code",
   "execution_count": 55,
   "metadata": {},
   "outputs": [
    {
     "name": "stdout",
     "output_type": "stream",
     "text": [
      "Starting hotel search\n",
      "carnarvon - nearest hotel: Carnarvon Hotel\n",
      "de aar - nearest hotel: No hotel found\n"
     ]
    },
    {
     "data": {
      "text/html": [
       "<div>\n",
       "<style scoped>\n",
       "    .dataframe tbody tr th:only-of-type {\n",
       "        vertical-align: middle;\n",
       "    }\n",
       "\n",
       "    .dataframe tbody tr th {\n",
       "        vertical-align: top;\n",
       "    }\n",
       "\n",
       "    .dataframe thead th {\n",
       "        text-align: right;\n",
       "    }\n",
       "</style>\n",
       "<table border=\"1\" class=\"dataframe\">\n",
       "  <thead>\n",
       "    <tr style=\"text-align: right;\">\n",
       "      <th></th>\n",
       "      <th>City</th>\n",
       "      <th>Country</th>\n",
       "      <th>Lat</th>\n",
       "      <th>Lng</th>\n",
       "      <th>Humidity</th>\n",
       "      <th>Hotel Name</th>\n",
       "    </tr>\n",
       "  </thead>\n",
       "  <tbody>\n",
       "    <tr>\n",
       "      <th>12</th>\n",
       "      <td>carnarvon</td>\n",
       "      <td>ZA</td>\n",
       "      <td>-30.97</td>\n",
       "      <td>22.13</td>\n",
       "      <td>66</td>\n",
       "      <td>Carnarvon Hotel</td>\n",
       "    </tr>\n",
       "    <tr>\n",
       "      <th>458</th>\n",
       "      <td>de aar</td>\n",
       "      <td>ZA</td>\n",
       "      <td>-30.65</td>\n",
       "      <td>24.01</td>\n",
       "      <td>63</td>\n",
       "      <td>No hotel found</td>\n",
       "    </tr>\n",
       "  </tbody>\n",
       "</table>\n",
       "</div>"
      ],
      "text/plain": [
       "          City Country    Lat    Lng  Humidity       Hotel Name\n",
       "12   carnarvon      ZA -30.97  22.13        66  Carnarvon Hotel\n",
       "458     de aar      ZA -30.65  24.01        63   No hotel found"
      ]
     },
     "execution_count": 55,
     "metadata": {},
     "output_type": "execute_result"
    }
   ],
   "source": [
    "radius = 10000\n",
    "categories = \"accommodation.hotel\"\n",
    "\n",
    "params = {\n",
    "   \"categories\":categories,\n",
    "    \"apiKey\":geoapify_key  \n",
    "}\n",
    "\n",
    "# Print a message to follow up the hotel search\n",
    "print(\"Starting hotel search\")\n",
    "\n",
    "# Iterate through the hotel_df DataFrame\n",
    "for index, row in hotel_df.iterrows():\n",
    "    # get latitude, longitude from the DataFrame\n",
    "    longitude = hotel_df.loc[index, \"Lng\"]\n",
    "    latitude = hotel_df.loc[index, \"Lat\"]\n",
    "    \n",
    "    # Add filter and bias parameters with the current city's latitude and longitude to the params dictionary\n",
    "    params[\"filter\"] =  f\"circle:{longitude},{latitude},{radius}\"\n",
    "    params[\"bias\"] = f\"proximity:{longitude},{latitude}\"\n",
    "    \n",
    "    # Set base URL\n",
    "    base_url = \"https://api.geoapify.com/v2/places\"\n",
    "\n",
    "\n",
    "    # Make and API request using the params dictionaty\n",
    "    name_address = name_address = requests.get(base_url, params=params)\n",
    "    \n",
    "    # Convert the API response to JSON format\n",
    "    name_address = name_address = name_address.json()\n",
    "    \n",
    "    # Grab the first hotel from the results and store the name in the hotel_df DataFrame\n",
    "    try:\n",
    "        hotel_df.loc[index, \"Hotel Name\"] = name_address[\"features\"][0][\"properties\"][\"name\"]\n",
    "    except (KeyError, IndexError):\n",
    "        # If no hotel is found, set the hotel name as \"No hotel found\".\n",
    "        hotel_df.loc[index, \"Hotel Name\"] = \"No hotel found\"\n",
    "        \n",
    "    # Log the search results\n",
    "    print(f\"{hotel_df.loc[index, 'City']} - nearest hotel: {hotel_df.loc[index, 'Hotel Name']}\")\n",
    "\n",
    "# Display sample data\n",
    "hotel_df"
   ]
  },
  {
   "cell_type": "markdown",
   "metadata": {},
   "source": [
    "### Step 5: Add the hotel name and the country as additional information in the hover message for each city in the map."
   ]
  },
  {
   "cell_type": "code",
   "execution_count": 56,
   "metadata": {},
   "outputs": [
    {
     "data": {},
     "metadata": {},
     "output_type": "display_data"
    },
    {
     "data": {
      "application/vnd.holoviews_exec.v0+json": "",
      "text/html": [
       "<div id='2759'>\n",
       "  <div class=\"bk-root\" id=\"c573396a-162d-4fd7-8b2f-f0364c3e9f84\" data-root-id=\"2759\"></div>\n",
       "</div>\n",
       "<script type=\"application/javascript\">(function(root) {\n",
       "  function embed_document(root) {\n",
       "    var docs_json = {\"773da6ba-82a3-4ff2-ba23-59da55e21cff\":{\"defs\":[{\"extends\":null,\"module\":null,\"name\":\"ReactiveHTML1\",\"overrides\":[],\"properties\":[]},{\"extends\":null,\"module\":null,\"name\":\"FlexBox1\",\"overrides\":[],\"properties\":[{\"default\":\"flex-start\",\"kind\":null,\"name\":\"align_content\"},{\"default\":\"flex-start\",\"kind\":null,\"name\":\"align_items\"},{\"default\":\"row\",\"kind\":null,\"name\":\"flex_direction\"},{\"default\":\"wrap\",\"kind\":null,\"name\":\"flex_wrap\"},{\"default\":\"flex-start\",\"kind\":null,\"name\":\"justify_content\"}]},{\"extends\":null,\"module\":null,\"name\":\"GridStack1\",\"overrides\":[],\"properties\":[{\"default\":\"warn\",\"kind\":null,\"name\":\"mode\"},{\"default\":null,\"kind\":null,\"name\":\"ncols\"},{\"default\":null,\"kind\":null,\"name\":\"nrows\"},{\"default\":true,\"kind\":null,\"name\":\"allow_resize\"},{\"default\":true,\"kind\":null,\"name\":\"allow_drag\"},{\"default\":[],\"kind\":null,\"name\":\"state\"}]},{\"extends\":null,\"module\":null,\"name\":\"click1\",\"overrides\":[],\"properties\":[{\"default\":\"\",\"kind\":null,\"name\":\"terminal_output\"},{\"default\":\"\",\"kind\":null,\"name\":\"debug_name\"},{\"default\":0,\"kind\":null,\"name\":\"clears\"}]},{\"extends\":null,\"module\":null,\"name\":\"NotificationAreaBase1\",\"overrides\":[],\"properties\":[{\"default\":\"bottom-right\",\"kind\":null,\"name\":\"position\"},{\"default\":0,\"kind\":null,\"name\":\"_clear\"}]},{\"extends\":null,\"module\":null,\"name\":\"NotificationArea1\",\"overrides\":[],\"properties\":[{\"default\":[],\"kind\":null,\"name\":\"notifications\"},{\"default\":\"bottom-right\",\"kind\":null,\"name\":\"position\"},{\"default\":0,\"kind\":null,\"name\":\"_clear\"},{\"default\":[{\"background\":\"#ffc107\",\"icon\":{\"className\":\"fas fa-exclamation-triangle\",\"color\":\"white\",\"tagName\":\"i\"},\"type\":\"warning\"},{\"background\":\"#007bff\",\"icon\":{\"className\":\"fas fa-info-circle\",\"color\":\"white\",\"tagName\":\"i\"},\"type\":\"info\"}],\"kind\":null,\"name\":\"types\"}]},{\"extends\":null,\"module\":null,\"name\":\"Notification\",\"overrides\":[],\"properties\":[{\"default\":null,\"kind\":null,\"name\":\"background\"},{\"default\":3000,\"kind\":null,\"name\":\"duration\"},{\"default\":null,\"kind\":null,\"name\":\"icon\"},{\"default\":\"\",\"kind\":null,\"name\":\"message\"},{\"default\":null,\"kind\":null,\"name\":\"notification_type\"},{\"default\":false,\"kind\":null,\"name\":\"_destroyed\"}]},{\"extends\":null,\"module\":null,\"name\":\"TemplateActions1\",\"overrides\":[],\"properties\":[{\"default\":0,\"kind\":null,\"name\":\"open_modal\"},{\"default\":0,\"kind\":null,\"name\":\"close_modal\"}]},{\"extends\":null,\"module\":null,\"name\":\"MaterialTemplateActions1\",\"overrides\":[],\"properties\":[{\"default\":0,\"kind\":null,\"name\":\"open_modal\"},{\"default\":0,\"kind\":null,\"name\":\"close_modal\"}]}],\"roots\":{\"references\":[{\"attributes\":{\"axis_label\":\"x\",\"coordinates\":null,\"formatter\":{\"id\":\"2805\"},\"group\":null,\"major_label_policy\":{\"id\":\"2810\"},\"ticker\":{\"id\":\"2804\"}},\"id\":\"2781\",\"type\":\"LinearAxis\"},{\"attributes\":{\"source\":{\"id\":\"2836\"}},\"id\":\"2845\",\"type\":\"CDSView\"},{\"attributes\":{},\"id\":\"2817\",\"type\":\"AllLabels\"},{\"attributes\":{\"below\":[{\"id\":\"2781\"}],\"center\":[{\"id\":\"2784\"},{\"id\":\"2788\"}],\"frame_height\":500,\"frame_width\":700,\"height\":null,\"left\":[{\"id\":\"2785\"}],\"margin\":[5,5,5,5],\"match_aspect\":true,\"min_border_bottom\":10,\"min_border_left\":10,\"min_border_right\":10,\"min_border_top\":10,\"renderers\":[{\"id\":\"2833\"},{\"id\":\"2844\"}],\"right\":[{\"id\":\"2852\"}],\"sizing_mode\":\"fixed\",\"title\":{\"id\":\"2773\"},\"toolbar\":{\"id\":\"2795\"},\"width\":null,\"x_range\":{\"id\":\"2765\"},\"x_scale\":{\"id\":\"2777\"},\"y_range\":{\"id\":\"2766\"},\"y_scale\":{\"id\":\"2779\"}},\"id\":\"2772\",\"subtype\":\"Figure\",\"type\":\"Plot\"},{\"attributes\":{\"dimension\":\"lat\"},\"id\":\"2806\",\"type\":\"MercatorTicker\"},{\"attributes\":{},\"id\":\"2777\",\"type\":\"LinearScale\"},{\"attributes\":{\"code\":\"\\n        var projections = Bokeh.require(\\\"core/util/projections\\\");\\n        var x = special_vars.data_x\\n        var y = special_vars.data_y\\n        if (projections.wgs84_mercator.invert == null) {\\n          var coords = projections.wgs84_mercator.inverse([x, y])\\n        } else {\\n          var coords = projections.wgs84_mercator.invert(x, y)\\n        }\\n        return \\\"\\\" + (coords[1]).toFixed(4)\\n    \"},\"id\":\"2855\",\"type\":\"CustomJSHover\"},{\"attributes\":{\"attribution\":\"&copy; <a href=\\\"https://www.openstreetmap.org/copyright\\\">OpenStreetMap</a> contributors\",\"url\":\"https://c.tile.openstreetmap.org/{Z}/{X}/{Y}.png\"},\"id\":\"2830\",\"type\":\"WMTSTileSource\"},{\"attributes\":{},\"id\":\"2779\",\"type\":\"LinearScale\"},{\"attributes\":{\"coordinates\":null,\"group\":null,\"level\":\"glyph\",\"tile_source\":{\"id\":\"2830\"}},\"id\":\"2833\",\"type\":\"TileRenderer\"},{\"attributes\":{\"dimension\":\"lon\"},\"id\":\"2804\",\"type\":\"MercatorTicker\"},{\"attributes\":{\"coordinates\":null,\"data_source\":{\"id\":\"2836\"},\"glyph\":{\"id\":\"2839\"},\"group\":null,\"hover_glyph\":{\"id\":\"2842\"},\"muted_glyph\":{\"id\":\"2843\"},\"nonselection_glyph\":{\"id\":\"2840\"},\"selection_glyph\":{\"id\":\"2841\"},\"view\":{\"id\":\"2845\"}},\"id\":\"2844\",\"type\":\"GlyphRenderer\"},{\"attributes\":{\"axis\":{\"id\":\"2781\"},\"coordinates\":null,\"grid_line_color\":null,\"group\":null,\"ticker\":null},\"id\":\"2784\",\"type\":\"Grid\"},{\"attributes\":{\"click_policy\":\"mute\",\"coordinates\":null,\"group\":null,\"items\":[{\"id\":\"2853\"}],\"location\":[0,0]},\"id\":\"2852\",\"type\":\"Legend\"},{\"attributes\":{\"callback\":null,\"formatters\":{\"$x\":{\"id\":\"2854\"},\"$y\":{\"id\":\"2855\"}},\"renderers\":[{\"id\":\"2844\"}],\"tags\":[\"hv_created\"],\"tooltips\":[[\"Lng\",\"$x{custom}\"],[\"Lat\",\"$y{custom}\"],[\"City\",\"@{City}\"],[\"Humidity\",\"@{Humidity}\"],[\"Hotel Name\",\"@{Hotel_Name}\"],[\"Country\",\"@{Country}\"]]},\"id\":\"2769\",\"type\":\"HoverTool\"},{\"attributes\":{\"margin\":[5,5,5,5],\"name\":\"HSpacer03441\",\"sizing_mode\":\"stretch_width\"},\"id\":\"2862\",\"type\":\"Spacer\"},{\"attributes\":{\"dimension\":\"lon\"},\"id\":\"2805\",\"type\":\"MercatorTickFormatter\"},{\"attributes\":{\"coordinates\":null,\"group\":null,\"text_color\":\"black\",\"text_font_size\":\"12pt\"},\"id\":\"2773\",\"type\":\"Title\"},{\"attributes\":{\"fill_alpha\":{\"value\":0.5},\"fill_color\":{\"field\":\"color\",\"transform\":{\"id\":\"2835\"}},\"hatch_alpha\":{\"value\":0.5},\"hatch_color\":{\"field\":\"color\",\"transform\":{\"id\":\"2835\"}},\"line_alpha\":{\"value\":0.5},\"line_color\":{\"field\":\"color\",\"transform\":{\"id\":\"2835\"}},\"size\":{\"field\":\"size\"},\"x\":{\"field\":\"Lng\"},\"y\":{\"field\":\"Lat\"}},\"id\":\"2841\",\"type\":\"Scatter\"},{\"attributes\":{},\"id\":\"2790\",\"type\":\"PanTool\"},{\"attributes\":{\"fill_alpha\":{\"value\":0.5},\"fill_color\":{\"field\":\"color\",\"transform\":{\"id\":\"2835\"}},\"hatch_alpha\":{\"value\":0.5},\"hatch_color\":{\"field\":\"color\",\"transform\":{\"id\":\"2835\"}},\"line_alpha\":{\"value\":0.5},\"line_color\":{\"field\":\"color\",\"transform\":{\"id\":\"2835\"}},\"size\":{\"field\":\"size\"},\"x\":{\"field\":\"Lng\"},\"y\":{\"field\":\"Lat\"}},\"id\":\"2842\",\"type\":\"Scatter\"},{\"attributes\":{\"axis_label\":\"y\",\"coordinates\":null,\"formatter\":{\"id\":\"2807\"},\"group\":null,\"major_label_policy\":{\"id\":\"2817\"},\"ticker\":{\"id\":\"2806\"}},\"id\":\"2785\",\"type\":\"LinearAxis\"},{\"attributes\":{\"tools\":[{\"id\":\"2769\"},{\"id\":\"2789\"},{\"id\":\"2790\"},{\"id\":\"2791\"},{\"id\":\"2792\"},{\"id\":\"2793\"}]},\"id\":\"2795\",\"type\":\"Toolbar\"},{\"attributes\":{\"fill_alpha\":{\"value\":0.5},\"fill_color\":{\"field\":\"color\",\"transform\":{\"id\":\"2835\"}},\"hatch_alpha\":{\"value\":0.5},\"hatch_color\":{\"field\":\"color\",\"transform\":{\"id\":\"2835\"}},\"line_alpha\":{\"value\":0.5},\"line_color\":{\"field\":\"color\",\"transform\":{\"id\":\"2835\"}},\"size\":{\"field\":\"size\"},\"x\":{\"field\":\"Lng\"},\"y\":{\"field\":\"Lat\"}},\"id\":\"2839\",\"type\":\"Scatter\"},{\"attributes\":{\"axis\":{\"id\":\"2785\"},\"coordinates\":null,\"dimension\":1,\"grid_line_color\":null,\"group\":null,\"ticker\":null},\"id\":\"2788\",\"type\":\"Grid\"},{\"attributes\":{\"margin\":[5,5,5,5],\"name\":\"HSpacer03440\",\"sizing_mode\":\"stretch_width\"},\"id\":\"2760\",\"type\":\"Spacer\"},{\"attributes\":{},\"id\":\"2837\",\"type\":\"Selection\"},{\"attributes\":{\"zoom_on_axis\":false},\"id\":\"2791\",\"type\":\"WheelZoomTool\"},{\"attributes\":{},\"id\":\"2849\",\"type\":\"UnionRenderers\"},{\"attributes\":{\"children\":[{\"id\":\"2760\"},{\"id\":\"2772\"},{\"id\":\"2862\"}],\"margin\":[0,0,0,0],\"name\":\"Row03436\",\"tags\":[\"embedded\"]},\"id\":\"2759\",\"type\":\"Row\"},{\"attributes\":{\"label\":{\"field\":\"color\"},\"renderers\":[{\"id\":\"2844\"}]},\"id\":\"2853\",\"type\":\"LegendItem\"},{\"attributes\":{\"code\":\"\\n        var projections = Bokeh.require(\\\"core/util/projections\\\");\\n        var x = special_vars.data_x\\n        var y = special_vars.data_y\\n        if (projections.wgs84_mercator.invert == null) {\\n          var coords = projections.wgs84_mercator.inverse([x, y])\\n        } else {\\n          var coords = projections.wgs84_mercator.invert(x, y)\\n        }\\n        return \\\"\\\" + (coords[0]).toFixed(4)\\n    \"},\"id\":\"2854\",\"type\":\"CustomJSHover\"},{\"attributes\":{\"fill_alpha\":{\"value\":0.5},\"fill_color\":{\"field\":\"color\",\"transform\":{\"id\":\"2835\"}},\"hatch_alpha\":{\"value\":0.1},\"hatch_color\":{\"field\":\"color\",\"transform\":{\"id\":\"2835\"}},\"line_alpha\":{\"value\":0.5},\"line_color\":{\"field\":\"color\",\"transform\":{\"id\":\"2835\"}},\"size\":{\"field\":\"size\"},\"x\":{\"field\":\"Lng\"},\"y\":{\"field\":\"Lat\"}},\"id\":\"2840\",\"type\":\"Scatter\"},{\"attributes\":{},\"id\":\"2789\",\"type\":\"SaveTool\"},{\"attributes\":{\"factors\":[\"carnarvon\",\"de aar\"],\"palette\":[\"#1f77b3\",\"#ff7e0e\"]},\"id\":\"2835\",\"type\":\"CategoricalColorMapper\"},{\"attributes\":{\"match_aspect\":true,\"overlay\":{\"id\":\"2794\"}},\"id\":\"2792\",\"type\":\"BoxZoomTool\"},{\"attributes\":{},\"id\":\"2793\",\"type\":\"ResetTool\"},{\"attributes\":{\"dimension\":\"lat\"},\"id\":\"2807\",\"type\":\"MercatorTickFormatter\"},{\"attributes\":{\"bottom_units\":\"screen\",\"coordinates\":null,\"fill_alpha\":0.5,\"fill_color\":\"lightgrey\",\"group\":null,\"left_units\":\"screen\",\"level\":\"overlay\",\"line_alpha\":1.0,\"line_color\":\"black\",\"line_dash\":[4,4],\"line_width\":2,\"right_units\":\"screen\",\"syncable\":false,\"top_units\":\"screen\"},\"id\":\"2794\",\"type\":\"BoxAnnotation\"},{\"attributes\":{\"data\":{\"City\":[\"carnarvon\",\"de aar\"],\"Country\":[\"ZA\",\"ZA\"],\"Hotel_Name\":[\"Carnarvon Hotel\",\"No hotel found\"],\"Humidity\":[66,63],\"Lat\":{\"__ndarray__\":\"lRGq15qvS8HSZw71mF5LwQ==\",\"dtype\":\"float64\",\"order\":\"little\",\"shape\":[2]},\"Lng\":{\"__ndarray__\":\"jZFmKobLQkFkR6p8RmREQQ==\",\"dtype\":\"float64\",\"order\":\"little\",\"shape\":[2]},\"color\":[\"carnarvon\",\"de aar\"],\"size\":{\"__ndarray__\":\"DLg29oE/IEBfdbx+v78fQA==\",\"dtype\":\"float64\",\"order\":\"little\",\"shape\":[2]}},\"selected\":{\"id\":\"2837\"},\"selection_policy\":{\"id\":\"2849\"}},\"id\":\"2836\",\"type\":\"ColumnDataSource\"},{\"attributes\":{\"end\":-3522695.2198607917,\"min_interval\":5,\"reset_end\":-3522695.2198607917,\"reset_start\":-3693536.3790872185,\"start\":-3693536.3790872185,\"tags\":[[[\"Lat\",\"Lat\",null]]]},\"id\":\"2766\",\"type\":\"Range1d\"},{\"attributes\":{\"end\":2687729.4640593193,\"min_interval\":5,\"reset_end\":2687729.4640593193,\"reset_start\":2448551.8411423215,\"start\":2448551.8411423215,\"tags\":[[[\"Lng\",\"Lng\",null]]]},\"id\":\"2765\",\"type\":\"Range1d\"},{\"attributes\":{\"fill_alpha\":{\"value\":0.2},\"fill_color\":{\"field\":\"color\",\"transform\":{\"id\":\"2835\"}},\"hatch_alpha\":{\"value\":0.2},\"hatch_color\":{\"field\":\"color\",\"transform\":{\"id\":\"2835\"}},\"line_alpha\":{\"value\":0.2},\"line_color\":{\"field\":\"color\",\"transform\":{\"id\":\"2835\"}},\"size\":{\"field\":\"size\"},\"x\":{\"field\":\"Lng\"},\"y\":{\"field\":\"Lat\"}},\"id\":\"2843\",\"type\":\"Scatter\"},{\"attributes\":{},\"id\":\"2810\",\"type\":\"AllLabels\"}],\"root_ids\":[\"2759\"]},\"title\":\"Bokeh Application\",\"version\":\"2.4.3\"}};\n",
       "    var render_items = [{\"docid\":\"773da6ba-82a3-4ff2-ba23-59da55e21cff\",\"root_ids\":[\"2759\"],\"roots\":{\"2759\":\"c573396a-162d-4fd7-8b2f-f0364c3e9f84\"}}];\n",
       "    root.Bokeh.embed.embed_items_notebook(docs_json, render_items);\n",
       "  }\n",
       "  if (root.Bokeh !== undefined && root.Bokeh.Panel !== undefined) {\n",
       "    embed_document(root);\n",
       "  } else {\n",
       "    var attempts = 0;\n",
       "    var timer = setInterval(function(root) {\n",
       "      if (root.Bokeh !== undefined && root.Bokeh.Panel !== undefined) {\n",
       "        clearInterval(timer);\n",
       "        embed_document(root);\n",
       "      } else if (document.readyState == \"complete\") {\n",
       "        attempts++;\n",
       "        if (attempts > 200) {\n",
       "          clearInterval(timer);\n",
       "          console.log(\"Bokeh: ERROR: Unable to run BokehJS code because BokehJS library is missing\");\n",
       "        }\n",
       "      }\n",
       "    }, 25, root)\n",
       "  }\n",
       "})(window);</script>"
      ],
      "text/plain": [
       ":Overlay\n",
       "   .Tiles.I  :Tiles   [x,y]\n",
       "   .Points.I :Points   [Lng,Lat]   (City,Humidity,Hotel Name,Country)"
      ]
     },
     "execution_count": 56,
     "metadata": {
      "application/vnd.holoviews_exec.v0+json": {
       "id": "2759"
      }
     },
     "output_type": "execute_result"
    }
   ],
   "source": [
    "%%capture --no-display\n",
    "\n",
    "# Configure the map plot\n",
    "hotel_map = hotel_df.hvplot.points(\n",
    "    \"Lng\",\n",
    "    \"Lat\",\n",
    "    geo = True,\n",
    "    tiles = \"OSM\",\n",
    "    frame_width = 700,\n",
    "    frame_height = 500,\n",
    "    size = \"Humidity\",\n",
    "    scale = 1,\n",
    "    color = \"City\",\n",
    "    alpha = 0.5,\n",
    "    hover_cols = [\"Hotel Name\", \"Country\"]\n",
    ")\n",
    "# Display the map\n",
    "hotel_map"
   ]
  },
  {
   "cell_type": "code",
   "execution_count": null,
   "metadata": {},
   "outputs": [],
   "source": []
  }
 ],
 "metadata": {
  "kernelspec": {
   "display_name": "Python 3.9.13 ('base')",
   "language": "python",
   "name": "python3"
  },
  "language_info": {
   "codemirror_mode": {
    "name": "ipython",
    "version": 3
   },
   "file_extension": ".py",
   "mimetype": "text/x-python",
   "name": "python",
   "nbconvert_exporter": "python",
   "pygments_lexer": "ipython3",
   "version": "3.9.13"
  },
  "latex_envs": {
   "LaTeX_envs_menu_present": true,
   "autoclose": false,
   "autocomplete": true,
   "bibliofile": "biblio.bib",
   "cite_by": "apalike",
   "current_citInitial": 1,
   "eqLabelWithNumbers": true,
   "eqNumInitial": 1,
   "hotkeys": {
    "equation": "Ctrl-E",
    "itemize": "Ctrl-I"
   },
   "labels_anchors": false,
   "latex_user_defs": false,
   "report_style_numbering": false,
   "user_envs_cfg": false
  },
  "vscode": {
   "interpreter": {
    "hash": "ad2bdc8ecc057115af97d19610ffacc2b4e99fae6737bb82f5d7fb13d2f2c186"
   }
  }
 },
 "nbformat": 4,
 "nbformat_minor": 4
}
